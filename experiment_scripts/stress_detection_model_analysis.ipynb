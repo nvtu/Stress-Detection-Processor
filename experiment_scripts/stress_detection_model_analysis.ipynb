{
 "cells": [
  {
   "cell_type": "code",
   "execution_count": 7,
   "metadata": {},
   "outputs": [],
   "source": [
    "import __init__\n",
    "from data_processing.data_splitter import DataSplitter\n",
    "from data_processing.datapath_manager import DataPathManager\n",
    "from data_processing.dataloader import DatasetLoader, EmbeddingDataLoader\n",
    "from models.trainers import MachineLearningModelTrainer, BranchNeuralNetworkTrainer\n",
    "from tqdm import tqdm\n",
    "from models.evaluators import Evaluator\n",
    "from collections import defaultdict\n",
    "import numpy as np\n",
    "import datetime\n",
    "import mlflow\n",
    "import lightgbm as lgb\n",
    "mlflow.set_tracking_uri('http://localhost:5010')\n"
   ]
  },
  {
   "cell_type": "code",
   "execution_count": 14,
   "metadata": {},
   "outputs": [],
   "source": [
    "dataset_name = 'DCU_NVT_EXP2'\n",
    "model_type = 'dependent'\n",
    "strategy = 'VotingCLF'\n",
    "WINDOW_SIZE = 60\n",
    "WINDOW_SHIFT = 0.25\n",
    "DEFAULT_SIGNAL = 'eda'\n",
    "SAMPLING_RATE = 4\n",
    "random_state = 0\n",
    "TEST_SIZE = 0.2\n",
    "target_metrics = ['accuracy', 'balanced_accuracy', 'precision', 'recall', 'f1']"
   ]
  },
  {
   "cell_type": "code",
   "execution_count": 29,
   "metadata": {},
   "outputs": [],
   "source": [
    "# logger.log_field('model_type', model_type)"
   ]
  },
  {
   "cell_type": "code",
   "execution_count": 4,
   "metadata": {},
   "outputs": [],
   "source": [
    "ds_path_manager = DataPathManager(dataset_name)\n",
    "ds_splitter = DataSplitter(dataset_name, model_type, TEST_SIZE)\n",
    "data = DatasetLoader(dataset_name).load_dataset_data()\n",
    "\n",
    "# saved_log_path = ds_path_manager.get_log_path(strategy, model_type, WINDOW_SIZE, WINDOW_SHIFT)\n",
    "# print(saved_log_path)"
   ]
  },
  {
   "cell_type": "code",
   "execution_count": 5,
   "metadata": {},
   "outputs": [
    {
     "name": "stderr",
     "output_type": "stream",
     "text": [
      "100%|██████████| 11/11 [00:00<00:00, 505.17it/s]\n"
     ]
    }
   ],
   "source": [
    "tasks_indices = defaultdict(dict)\n",
    "\n",
    "index = 0\n",
    "for user_id in tqdm(data[DEFAULT_SIGNAL].keys()):\n",
    "    for task_id, signal_data in data[DEFAULT_SIGNAL][user_id].items():\n",
    "\n",
    "        tasks_indices[user_id][task_id] = []\n",
    "\n",
    "        len_signal = len(signal_data)\n",
    "        step = int(WINDOW_SHIFT * SAMPLING_RATE)\n",
    "        first_iter = int(WINDOW_SIZE * SAMPLING_RATE)\n",
    "\n",
    "        for current_iter in range(first_iter, len_signal, step):\n",
    "            previous_iter = current_iter - first_iter\n",
    "            tasks_indices[user_id][task_id].append(index)\n",
    "            index += 1"
   ]
  },
  {
   "cell_type": "code",
   "execution_count": 6,
   "metadata": {},
   "outputs": [],
   "source": [
    "models = {}\n",
    "temp = {}"
   ]
  },
  {
   "cell_type": "code",
   "execution_count": 15,
   "metadata": {},
   "outputs": [
    {
     "name": "stderr",
     "output_type": "stream",
     "text": [
      "  0%|          | 0/11 [00:00<?, ?it/s]"
     ]
    },
    {
     "name": "stdout",
     "output_type": "stream",
     "text": [
      "cgurrin\n",
      "/mnt/DATA/nvtu/PhD/stress_data/DCU_NVT_EXP2/models/60_0.25/dependent/VotingCLF/cgurrin_VotingCLF_dependent_60_0.25.pth\n",
      "LOAD PRETRAINED MODEL\n"
     ]
    },
    {
     "name": "stderr",
     "output_type": "stream",
     "text": [
      "  9%|▉         | 1/11 [00:00<00:02,  3.94it/s]"
     ]
    },
    {
     "name": "stdout",
     "output_type": "stream",
     "text": [
      "{'accuracy': 0.9356376638855781, 'balanced_accuracy': 0.9221368128673859, 'precision': 0.9443478260869566, 'recall': 0.9610619469026549, 'f1': 0.9526315789473684}\n",
      "ltkhiem\n",
      "/mnt/DATA/nvtu/PhD/stress_data/DCU_NVT_EXP2/models/60_0.25/dependent/VotingCLF/ltkhiem_VotingCLF_dependent_60_0.25.pth\n",
      "LOAD PRETRAINED MODEL\n"
     ]
    },
    {
     "name": "stderr",
     "output_type": "stream",
     "text": [
      " 18%|█▊        | 2/11 [00:00<00:02,  3.81it/s]"
     ]
    },
    {
     "name": "stdout",
     "output_type": "stream",
     "text": [
      "{'accuracy': 0.8062849763237193, 'balanced_accuracy': 0.7515621709194006, 'precision': 0.7969457013574661, 'recall': 0.9393333333333334, 'f1': 0.8623011015911872}\n",
      "lttnga\n",
      "/mnt/DATA/nvtu/PhD/stress_data/DCU_NVT_EXP2/models/60_0.25/dependent/VotingCLF/lttnga_VotingCLF_dependent_60_0.25.pth\n",
      "LOAD PRETRAINED MODEL\n"
     ]
    },
    {
     "name": "stderr",
     "output_type": "stream",
     "text": [
      " 27%|██▋       | 3/11 [00:00<00:02,  3.81it/s]"
     ]
    },
    {
     "name": "stdout",
     "output_type": "stream",
     "text": [
      "{'accuracy': 0.8485370051635112, 'balanced_accuracy': 0.8522553869779467, 'precision': 0.9190962099125365, 'recall': 0.8395472703062583, 'f1': 0.8775226165622827}\n",
      "lzhou\n",
      "/mnt/DATA/nvtu/PhD/stress_data/DCU_NVT_EXP2/models/60_0.25/dependent/VotingCLF/lzhou_VotingCLF_dependent_60_0.25.pth\n",
      "LOAD PRETRAINED MODEL\n"
     ]
    },
    {
     "name": "stderr",
     "output_type": "stream",
     "text": [
      " 36%|███▋      | 4/11 [00:01<00:01,  3.68it/s]"
     ]
    },
    {
     "name": "stdout",
     "output_type": "stream",
     "text": [
      "{'accuracy': 1.0, 'balanced_accuracy': 1.0, 'precision': 1.0, 'recall': 1.0, 'f1': 1.0}\n",
      "nmduy\n",
      "/mnt/DATA/nvtu/PhD/stress_data/DCU_NVT_EXP2/models/60_0.25/dependent/VotingCLF/nmduy_VotingCLF_dependent_60_0.25.pth\n",
      "LOAD PRETRAINED MODEL\n"
     ]
    },
    {
     "name": "stderr",
     "output_type": "stream",
     "text": [
      " 45%|████▌     | 5/11 [00:01<00:01,  3.63it/s]"
     ]
    },
    {
     "name": "stdout",
     "output_type": "stream",
     "text": [
      "{'accuracy': 0.9625645438898451, 'balanced_accuracy': 0.9495029429569606, 'precision': 0.950381679389313, 'recall': 0.9940119760479041, 'f1': 0.9717073170731706}\n",
      "ntnhu\n",
      "/mnt/DATA/nvtu/PhD/stress_data/DCU_NVT_EXP2/models/60_0.25/dependent/VotingCLF/ntnhu_VotingCLF_dependent_60_0.25.pth\n",
      "LOAD PRETRAINED MODEL\n"
     ]
    },
    {
     "name": "stderr",
     "output_type": "stream",
     "text": [
      " 55%|█████▍    | 6/11 [00:01<00:01,  3.61it/s]"
     ]
    },
    {
     "name": "stdout",
     "output_type": "stream",
     "text": [
      "{'accuracy': 0.8853448275862069, 'balanced_accuracy': 0.8600390516129715, 'precision': 0.8841121495327103, 'recall': 0.9466310873915944, 'f1': 0.9143041237113403}\n",
      "nvtu\n",
      "/mnt/DATA/nvtu/PhD/stress_data/DCU_NVT_EXP2/models/60_0.25/dependent/VotingCLF/nvtu_VotingCLF_dependent_60_0.25.pth\n",
      "LOAD PRETRAINED MODEL\n"
     ]
    },
    {
     "name": "stderr",
     "output_type": "stream",
     "text": [
      " 64%|██████▎   | 7/11 [00:01<00:01,  3.60it/s]"
     ]
    },
    {
     "name": "stdout",
     "output_type": "stream",
     "text": [
      "{'accuracy': 0.7740405347132384, 'balanced_accuracy': 0.7209614214433492, 'precision': 0.7797001153402537, 'recall': 0.9049531459170014, 'f1': 0.8376703841387856}\n",
      "pmnguyet\n",
      "/mnt/DATA/nvtu/PhD/stress_data/DCU_NVT_EXP2/models/60_0.25/dependent/VotingCLF/pmnguyet_VotingCLF_dependent_60_0.25.pth\n",
      "LOAD PRETRAINED MODEL\n"
     ]
    },
    {
     "name": "stderr",
     "output_type": "stream",
     "text": [
      " 73%|███████▎  | 8/11 [00:02<00:00,  3.61it/s]"
     ]
    },
    {
     "name": "stdout",
     "output_type": "stream",
     "text": [
      "{'accuracy': 0.8931530745747929, 'balanced_accuracy': 0.8833063737963214, 'precision': 0.9151967435549525, 'recall': 0.9183117767188563, 'f1': 0.9167516139993204}\n",
      "qmboi\n",
      "/mnt/DATA/nvtu/PhD/stress_data/DCU_NVT_EXP2/models/60_0.25/dependent/VotingCLF/qmboi_VotingCLF_dependent_60_0.25.pth\n",
      "LOAD PRETRAINED MODEL\n"
     ]
    },
    {
     "name": "stderr",
     "output_type": "stream",
     "text": [
      " 82%|████████▏ | 9/11 [00:02<00:00,  3.60it/s]"
     ]
    },
    {
     "name": "stdout",
     "output_type": "stream",
     "text": [
      "{'accuracy': 0.8758620689655172, 'balanced_accuracy': 0.8394164373604693, 'precision': 0.8595238095238096, 'recall': 0.9652406417112299, 'f1': 0.9093198992443324}\n",
      "tkvan\n",
      "/mnt/DATA/nvtu/PhD/stress_data/DCU_NVT_EXP2/models/60_0.25/dependent/VotingCLF/tkvan_VotingCLF_dependent_60_0.25.pth\n",
      "LOAD PRETRAINED MODEL\n"
     ]
    },
    {
     "name": "stderr",
     "output_type": "stream",
     "text": [
      " 91%|█████████ | 10/11 [00:02<00:00,  3.57it/s]"
     ]
    },
    {
     "name": "stdout",
     "output_type": "stream",
     "text": [
      "{'accuracy': 0.90572535514421, 'balanced_accuracy': 0.8729825840421224, 'precision': 0.8823880597014926, 'recall': 0.9853333333333333, 'f1': 0.931023622047244}\n",
      "tlduyen\n",
      "/mnt/DATA/nvtu/PhD/stress_data/DCU_NVT_EXP2/models/60_0.25/dependent/VotingCLF/tlduyen_VotingCLF_dependent_60_0.25.pth\n",
      "LOAD PRETRAINED MODEL\n"
     ]
    },
    {
     "name": "stderr",
     "output_type": "stream",
     "text": [
      "100%|██████████| 11/11 [00:03<00:00,  3.61it/s]"
     ]
    },
    {
     "name": "stdout",
     "output_type": "stream",
     "text": [
      "{'accuracy': 0.9410752688172043, 'balanced_accuracy': 0.916969696969697, 'precision': 0.916310323762981, 'recall': 1.0, 'f1': 0.9563277016257571}\n"
     ]
    },
    {
     "name": "stderr",
     "output_type": "stream",
     "text": [
      "\n"
     ]
    }
   ],
   "source": [
    "\n",
    "ds_splitter.reset()\n",
    "\n",
    "current_datetime = datetime.datetime.strftime(datetime.datetime.now(), '%Y-%m-%d %H:%M:%S.%f')\n",
    "# experiment_id = mlflow.create_experiment(name = dataset_name)\n",
    "experiment_id = mlflow.get_experiment_by_name(dataset_name).experiment_id\n",
    "\n",
    "\n",
    "for _ in tqdm(range(ds_splitter.num_subjects)):\n",
    "    data = ds_splitter.next()\n",
    "\n",
    "\n",
    "    X_train, y_train, X_test, y_test, target_user = data\n",
    "    temp[target_user] = [X_train, y_train, X_test, y_test]\n",
    "    # if target_user not in ['S15']: continue\n",
    "    print(target_user)\n",
    "\n",
    "    train_embedding_dl = EmbeddingDataLoader(X_train, y_train)\n",
    "    validation_embedding_dl = EmbeddingDataLoader(X_test, y_test)\n",
    "    \n",
    "    saved_model_path = ds_path_manager.get_saved_model_path(target_user, strategy, model_type, WINDOW_SIZE, WINDOW_SHIFT)\n",
    "    print(saved_model_path)\n",
    "    model = MachineLearningModelTrainer(saved_model_path, strategy, target_metrics = target_metrics, random_state = random_state, eval_mode = True) \n",
    "    # model = BranchNeuralNetworkTrainer(strategy, target_metrics = target_metrics, random_state = random_state)\n",
    "\n",
    "    # eval_results = model.train(train_embedding_dl, validation_embedding_dl)\n",
    "    eval_results = model.predict_and_evaluate(validation_embedding_dl)\n",
    "    print(eval_results)\n",
    "    # break    \n",
    "    # params = {\n",
    "    #     'user_id': target_user,\n",
    "    #     'model_type': model_type,\n",
    "    #     'strategy': strategy,\n",
    "    # }\n",
    "    # tags = {\n",
    "    #     'window_size': WINDOW_SIZE,\n",
    "    #     'window_shift': WINDOW_SHIFT,\n",
    "    #     'test_size': TEST_SIZE,\n",
    "    # }\n",
    "\n",
    "    # with mlflow.start_run(\n",
    "    #     experiment_id=experiment_id,\n",
    "    #     run_name = f'{target_user}',\n",
    "    #     # tags = tags\n",
    "    # ):\n",
    "    #     # mlflow.autolog(log_models = True)\n",
    "    #     mlflow.log_params(params)\n",
    "    #     mlflow.log_metrics(eval_results)\n",
    "\n",
    "    # models[target_user] = model\n"
   ]
  },
  {
   "cell_type": "code",
   "execution_count": 35,
   "metadata": {},
   "outputs": [
    {
     "data": {
      "text/plain": [
       "(6553, 72)"
      ]
     },
     "execution_count": 35,
     "metadata": {},
     "output_type": "execute_result"
    }
   ],
   "source": [
    "temp['S11'][0].shape"
   ]
  },
  {
   "cell_type": "markdown",
   "metadata": {},
   "source": [
    "--------------------------------------------------------"
   ]
  },
  {
   "cell_type": "code",
   "execution_count": null,
   "metadata": {},
   "outputs": [],
   "source": [
    "dataset, ground_truth, groups, _ = DatasetLoader(dataset_name).load_data_for_training(window_shift = WINDOW_SHIFT, window_size = WINDOW_SIZE)"
   ]
  },
  {
   "cell_type": "code",
   "execution_count": null,
   "metadata": {},
   "outputs": [],
   "source": [
    "evaluator = Evaluator(target_metrics = ['accuracy'])"
   ]
  },
  {
   "cell_type": "code",
   "execution_count": null,
   "metadata": {},
   "outputs": [],
   "source": [
    "TEST_SIZE = 0.3\n",
    "\n",
    "for user_id in tasks_indices.keys():\n",
    "    print('-------------- {} --------------'.format(user_id))\n",
    "    train_X, test_X = [], []\n",
    "    train_Y, test_Y = [], []\n",
    "    for task_id, indices in tasks_indices[user_id].items():\n",
    "        # if user_id in ['nvtu', 'pmnguyet', 'cgurrin', 'tlduyen', 'lzhou', 'ltkhiem', 'qmboi', 'ntnhu']:\n",
    "        #     if task_id not in ['Baseline', 'Reading1', 'stest_Hard']:\n",
    "        #         continue\n",
    "        # elif user_id in ['nmduy', 'lttnga']:\n",
    "        #     if task_id not in ['Baseline', 'Reading2', 'stest_Hard']:\n",
    "        #         continue\n",
    "        # elif user_id in ['tkvan']:\n",
    "        #     if task_id not in ['Baseline', 'Reading3', 'stest_Hard']:\n",
    "        #         continue\n",
    "         \n",
    "        # if task_id in ['Baseline', 'Reading1', 'Reading2', 'Reading3', 'stest_Hard']:\n",
    "        if 1 == 1:\n",
    "            # index = (1 - len(indices) * TEST_SIZE)\n",
    "            index = (1 - TEST_SIZE) * len(indices)\n",
    "            train_indices = indices[:int(index)]\n",
    "            test_indices = indices[int(index):]\n",
    "            train_X.append(dataset[train_indices, :])\n",
    "            test_X.append(dataset[test_indices, :])\n",
    "\n",
    "            # train_Y.append(ground_truth[train_indices])\n",
    "            # test_Y.append(ground_truth[test_indices])\n",
    "            if task_id in ['stest_Easy', 'stest_Medium']:\n",
    "                train_Y.append([0] * len(ground_truth[train_indices]))\n",
    "                test_Y.append([0] * len(ground_truth[test_indices]))\n",
    "            else:\n",
    "                train_Y.append(ground_truth[train_indices])\n",
    "                test_Y.append(ground_truth[test_indices])\n",
    "            \n",
    "        # elif task_id in ['Reading2', 'Reading3']:\n",
    "        #     test_X.append(dataset[indices, :])\n",
    "        #     test_Y.append(ground_truth[indices])\n",
    "        # elif task_id in ['stest_Medium']:\n",
    "        #     test_X.append(dataset[indices, :])\n",
    "        #     test_Y.append([0] * len(indices))\n",
    "        # elif task_id in ['Reading1']:\n",
    "        #     # X, y = dataset[indices, :], ground_truth[indices]\n",
    "        #     # print(task_id, min(indices), max(indices))\n",
    "        #     # new_X.append(X)\n",
    "        #     # new_y.append(y)\n",
    "        #     train_X.append(dataset[indices, :])\n",
    "        #     train_Y.append(ground_truth[indices])\n",
    "        # elif task_id in ['stest_Hard']:\n",
    "        #     test_X.append(dataset[indices, :])\n",
    "        #     test_Y.append(ground_truth[indices])\n",
    "\n",
    "    # new_X = np.concatenate(new_X, axis=0)\n",
    "    # new_y = np.concatenate(new_y, axis=0)\n",
    "\n",
    "    X_train = np.concatenate(train_X, axis=0)\n",
    "    X_test = np.concatenate(test_X, axis=0)\n",
    "    y_train = np.concatenate(train_Y, axis=0)\n",
    "    y_test = np.concatenate(test_Y, axis=0)\n",
    " #\n",
    "    train_embedding_dl = EmbeddingDataLoader(X_train, y_train)\n",
    "    validate_embedding_dl = EmbeddingDataLoader(X_test, y_test)\n",
    "\n",
    "    models[user_id].train(train_embedding_dl, validate_embedding_dl)"
   ]
  },
  {
   "cell_type": "code",
   "execution_count": null,
   "metadata": {},
   "outputs": [],
   "source": []
  },
  {
   "cell_type": "code",
   "execution_count": null,
   "metadata": {},
   "outputs": [],
   "source": []
  },
  {
   "cell_type": "code",
   "execution_count": 7,
   "metadata": {},
   "outputs": [],
   "source": [
    "from sklearn.decomposition import PCA\n",
    "import matplotlib.pyplot as plt"
   ]
  },
  {
   "cell_type": "code",
   "execution_count": 8,
   "metadata": {},
   "outputs": [],
   "source": [
    "user_id = 'S15'"
   ]
  },
  {
   "cell_type": "code",
   "execution_count": 32,
   "metadata": {},
   "outputs": [
    {
     "ename": "KeyError",
     "evalue": "'15'",
     "output_type": "error",
     "traceback": [
      "\u001b[0;31m---------------------------------------------------------------------------\u001b[0m",
      "\u001b[0;31mKeyError\u001b[0m                                  Traceback (most recent call last)",
      "\u001b[1;32m/home/nvtu/PhD_Work/ExperimentProtocol2/stress_detection/experiment_scripts/stress_detection_model_analysis.ipynb Cell 16\u001b[0m in \u001b[0;36m<cell line: 1>\u001b[0;34m()\u001b[0m\n\u001b[0;32m----> <a href='vscode-notebook-cell://ssh-remote%2B136.206.48.13/home/nvtu/PhD_Work/ExperimentProtocol2/stress_detection/experiment_scripts/stress_detection_model_analysis.ipynb#X20sdnNjb2RlLXJlbW90ZQ%3D%3D?line=0'>1</a>\u001b[0m X \u001b[39m=\u001b[39m PCA(n_components\u001b[39m=\u001b[39m\u001b[39m2\u001b[39m)\u001b[39m.\u001b[39mfit_transform(temp[user_id][\u001b[39m0\u001b[39m])\n\u001b[1;32m      <a href='vscode-notebook-cell://ssh-remote%2B136.206.48.13/home/nvtu/PhD_Work/ExperimentProtocol2/stress_detection/experiment_scripts/stress_detection_model_analysis.ipynb#X20sdnNjb2RlLXJlbW90ZQ%3D%3D?line=1'>2</a>\u001b[0m plt\u001b[39m.\u001b[39mscatter(X[:, \u001b[39m0\u001b[39m], X[:, \u001b[39m1\u001b[39m], c\u001b[39m=\u001b[39mtemp[user_id][\u001b[39m1\u001b[39m])\n",
      "\u001b[0;31mKeyError\u001b[0m: '15'"
     ]
    }
   ],
   "source": [
    "X = PCA(n_components=2).fit_transform(temp[user_id][0])\n",
    "plt.scatter(X[:, 0], X[:, 1], c=temp[user_id][1])"
   ]
  },
  {
   "cell_type": "code",
   "execution_count": 35,
   "metadata": {},
   "outputs": [
    {
     "data": {
      "text/plain": [
       "<matplotlib.collections.PathCollection at 0x7fedb85b9160>"
      ]
     },
     "execution_count": 35,
     "metadata": {},
     "output_type": "execute_result"
    },
    {
     "data": {
      "image/png": "[encoded data removed]",
      "text/plain": [
       "<Figure size 640x480 with 1 Axes>"
      ]
     },
     "metadata": {},
     "output_type": "display_data"
    }
   ],
   "source": [
    "_X = temp[user_id][2][:, 30:32]\n",
    "plt.scatter(_X[:, 0], _X[:, 1], c=temp[user_id][3])"
   ]
  },
  {
   "cell_type": "code",
   "execution_count": 9,
   "metadata": {},
   "outputs": [],
   "source": [
    "from sklearn.model_selection import GridSearchCV\n",
    "from sklearn.ensemble import ExtraTreesClassifier"
   ]
  },
  {
   "cell_type": "code",
   "execution_count": 45,
   "metadata": {},
   "outputs": [],
   "source": [
    "param_grid = [\n",
    "  {'n_estimators': [500], \n",
    "    'min_samples_split': [2],\n",
    "    'min_samples_leaf': [8],\n",
    "    'max_depth': [8],\n",
    "    'bootstrap': [True, False],\n",
    "    'oob_score': [True, False],\n",
    "  },\n",
    "]\n",
    "\n",
    "clf = ExtraTreesClassifier(\n",
    "                n_estimators = 250,\n",
    "                random_state = random_state, \n",
    "                n_jobs = -1, \n",
    "                max_features = 'sqrt', \n",
    "                max_depth = 8, \n",
    "                min_samples_split = 2, \n",
    "                min_samples_leaf = 4,\n",
    "                oob_score = True, \n",
    "                bootstrap = True, \n",
    "                # class_weight = 'balanced'\n",
    "            )"
   ]
  },
  {
   "cell_type": "code",
   "execution_count": 46,
   "metadata": {},
   "outputs": [
    {
     "name": "stdout",
     "output_type": "stream",
     "text": [
      "Fitting 5 folds for each of 4 candidates, totalling 20 fits\n",
      "[CV 1/5] END bootstrap=False, max_depth=8, min_samples_leaf=8, min_samples_split=2, n_estimators=500, oob_score=True;, score=nan total time=   0.0s\n",
      "[CV 2/5] END bootstrap=False, max_depth=8, min_samples_leaf=8, min_samples_split=2, n_estimators=500, oob_score=True;, score=nan total time=   0.0s\n",
      "[CV 3/5] END bootstrap=False, max_depth=8, min_samples_leaf=8, min_samples_split=2, n_estimators=500, oob_score=True;, score=nan total time=   0.0s\n",
      "[CV 4/5] END bootstrap=False, max_depth=8, min_samples_leaf=8, min_samples_split=2, n_estimators=500, oob_score=True;, score=nan total time=   0.0s\n",
      "[CV 5/5] END bootstrap=False, max_depth=8, min_samples_leaf=8, min_samples_split=2, n_estimators=500, oob_score=True;, score=nan total time=   0.0s\n",
      "[CV 2/5] END bootstrap=False, max_depth=8, min_samples_leaf=8, min_samples_split=2, n_estimators=500, oob_score=False;, score=1.000 total time=   3.5s\n",
      "[CV 4/5] END bootstrap=True, max_depth=8, min_samples_leaf=8, min_samples_split=2, n_estimators=500, oob_score=False;, score=1.000 total time=   3.5s\n",
      "[CV 3/5] END bootstrap=False, max_depth=8, min_samples_leaf=8, min_samples_split=2, n_estimators=500, oob_score=False;, score=0.916 total time=   3.6s\n",
      "[CV 3/5] END bootstrap=True, max_depth=8, min_samples_leaf=8, min_samples_split=2, n_estimators=500, oob_score=False;, score=0.917 total time=   3.6s\n",
      "[CV 2/5] END bootstrap=True, max_depth=8, min_samples_leaf=8, min_samples_split=2, n_estimators=500, oob_score=False;, score=0.999 total time=   3.6s\n",
      "[CV 4/5] END bootstrap=False, max_depth=8, min_samples_leaf=8, min_samples_split=2, n_estimators=500, oob_score=False;, score=0.998 total time=   3.6s\n",
      "[CV 5/5] END bootstrap=True, max_depth=8, min_samples_leaf=8, min_samples_split=2, n_estimators=500, oob_score=False;, score=0.690 total time=   3.7s\n",
      "[CV 1/5] END bootstrap=False, max_depth=8, min_samples_leaf=8, min_samples_split=2, n_estimators=500, oob_score=False;, score=0.994 total time=   3.7s\n",
      "[CV 5/5] END bootstrap=False, max_depth=8, min_samples_leaf=8, min_samples_split=2, n_estimators=500, oob_score=False;, score=0.679 total time=   3.8s\n",
      "[CV 1/5] END bootstrap=True, max_depth=8, min_samples_leaf=8, min_samples_split=2, n_estimators=500, oob_score=False;, score=0.999 total time=   3.5s\n",
      "[CV 2/5] END bootstrap=True, max_depth=8, min_samples_leaf=8, min_samples_split=2, n_estimators=500, oob_score=True;, score=0.999 total time=   3.8s\n",
      "[CV 5/5] END bootstrap=True, max_depth=8, min_samples_leaf=8, min_samples_split=2, n_estimators=500, oob_score=True;, score=0.690 total time=   3.9s\n",
      "[CV 4/5] END bootstrap=True, max_depth=8, min_samples_leaf=8, min_samples_split=2, n_estimators=500, oob_score=True;, score=1.000 total time=   4.0s\n",
      "[CV 1/5] END bootstrap=True, max_depth=8, min_samples_leaf=8, min_samples_split=2, n_estimators=500, oob_score=True;, score=0.999 total time=   4.0s\n",
      "[CV 3/5] END bootstrap=True, max_depth=8, min_samples_leaf=8, min_samples_split=2, n_estimators=500, oob_score=True;, score=0.917 total time=   4.0s\n"
     ]
    },
    {
     "name": "stderr",
     "output_type": "stream",
     "text": [
      "/home/nmduy/anaconda3/envs/stress/lib/python3.9/site-packages/sklearn/model_selection/_validation.py:378: FitFailedWarning: \n",
      "5 fits failed out of a total of 20.\n",
      "The score on these train-test partitions for these parameters will be set to nan.\n",
      "If these failures are not expected, you can try to debug them by setting error_score='raise'.\n",
      "\n",
      "Below are more details about the failures:\n",
      "--------------------------------------------------------------------------------\n",
      "5 fits failed with the following error:\n",
      "Traceback (most recent call last):\n",
      "  File \"/home/nmduy/anaconda3/envs/stress/lib/python3.9/site-packages/sklearn/model_selection/_validation.py\", line 686, in _fit_and_score\n",
      "    estimator.fit(X_train, y_train, **fit_params)\n",
      "  File \"/home/nmduy/anaconda3/envs/stress/lib/python3.9/site-packages/sklearn/ensemble/_forest.py\", line 437, in fit\n",
      "    raise ValueError(\"Out of bag estimation only available if bootstrap=True\")\n",
      "ValueError: Out of bag estimation only available if bootstrap=True\n",
      "\n",
      "  warnings.warn(some_fits_failed_message, FitFailedWarning)\n",
      "/home/nmduy/anaconda3/envs/stress/lib/python3.9/site-packages/sklearn/model_selection/_search.py:953: UserWarning: One or more of the test scores are non-finite: [0.92085221 0.92085221        nan 0.91724331]\n",
      "  warnings.warn(\n"
     ]
    },
    {
     "data": {
      "text/html": [
       "<style>#sk-container-id-12 {color: black;background-color: white;}#sk-container-id-12 pre{padding: 0;}#sk-container-id-12 div.sk-toggleable {background-color: white;}#sk-container-id-12 label.sk-toggleable__label {cursor: pointer;display: block;width: 100%;margin-bottom: 0;padding: 0.3em;box-sizing: border-box;text-align: center;}#sk-container-id-12 label.sk-toggleable__label-arrow:before {content: \"▸\";float: left;margin-right: 0.25em;color: #696969;}#sk-container-id-12 label.sk-toggleable__label-arrow:hover:before {color: black;}#sk-container-id-12 div.sk-estimator:hover label.sk-toggleable__label-arrow:before {color: black;}#sk-container-id-12 div.sk-toggleable__content {max-height: 0;max-width: 0;overflow: hidden;text-align: left;background-color: #f0f8ff;}#sk-container-id-12 div.sk-toggleable__content pre {margin: 0.2em;color: black;border-radius: 0.25em;background-color: #f0f8ff;}#sk-container-id-12 input.sk-toggleable__control:checked~div.sk-toggleable__content {max-height: 200px;max-width: 100%;overflow: auto;}#sk-container-id-12 input.sk-toggleable__control:checked~label.sk-toggleable__label-arrow:before {content: \"▾\";}#sk-container-id-12 div.sk-estimator input.sk-toggleable__control:checked~label.sk-toggleable__label {background-color: #d4ebff;}#sk-container-id-12 div.sk-label input.sk-toggleable__control:checked~label.sk-toggleable__label {background-color: #d4ebff;}#sk-container-id-12 input.sk-hidden--visually {border: 0;clip: rect(1px 1px 1px 1px);clip: rect(1px, 1px, 1px, 1px);height: 1px;margin: -1px;overflow: hidden;padding: 0;position: absolute;width: 1px;}#sk-container-id-12 div.sk-estimator {font-family: monospace;background-color: #f0f8ff;border: 1px dotted black;border-radius: 0.25em;box-sizing: border-box;margin-bottom: 0.5em;}#sk-container-id-12 div.sk-estimator:hover {background-color: #d4ebff;}#sk-container-id-12 div.sk-parallel-item::after {content: \"\";width: 100%;border-bottom: 1px solid gray;flex-grow: 1;}#sk-container-id-12 div.sk-label:hover label.sk-toggleable__label {background-color: #d4ebff;}#sk-container-id-12 div.sk-serial::before {content: \"\";position: absolute;border-left: 1px solid gray;box-sizing: border-box;top: 0;bottom: 0;left: 50%;z-index: 0;}#sk-container-id-12 div.sk-serial {display: flex;flex-direction: column;align-items: center;background-color: white;padding-right: 0.2em;padding-left: 0.2em;position: relative;}#sk-container-id-12 div.sk-item {position: relative;z-index: 1;}#sk-container-id-12 div.sk-parallel {display: flex;align-items: stretch;justify-content: center;background-color: white;position: relative;}#sk-container-id-12 div.sk-item::before, #sk-container-id-12 div.sk-parallel-item::before {content: \"\";position: absolute;border-left: 1px solid gray;box-sizing: border-box;top: 0;bottom: 0;left: 50%;z-index: -1;}#sk-container-id-12 div.sk-parallel-item {display: flex;flex-direction: column;z-index: 1;position: relative;background-color: white;}#sk-container-id-12 div.sk-parallel-item:first-child::after {align-self: flex-end;width: 50%;}#sk-container-id-12 div.sk-parallel-item:last-child::after {align-self: flex-start;width: 50%;}#sk-container-id-12 div.sk-parallel-item:only-child::after {width: 0;}#sk-container-id-12 div.sk-dashed-wrapped {border: 1px dashed gray;margin: 0 0.4em 0.5em 0.4em;box-sizing: border-box;padding-bottom: 0.4em;background-color: white;}#sk-container-id-12 div.sk-label label {font-family: monospace;font-weight: bold;display: inline-block;line-height: 1.2em;}#sk-container-id-12 div.sk-label-container {text-align: center;}#sk-container-id-12 div.sk-container {/* jupyter's `normalize.less` sets `[hidden] { display: none; }` but bootstrap.min.css set `[hidden] { display: none !important; }` so we also need the `!important` here to be able to override the default hidden behavior on the sphinx rendered scikit-learn.org. See: https://github.com/scikit-learn/scikit-learn/issues/21755 */display: inline-block !important;position: relative;}#sk-container-id-12 div.sk-text-repr-fallback {display: none;}</style><div id=\"sk-container-id-12\" class=\"sk-top-container\"><div class=\"sk-text-repr-fallback\"><pre>GridSearchCV(cv=5,\n",
       "             estimator=ExtraTreesClassifier(bootstrap=True,\n",
       "                                            class_weight=&#x27;balanced&#x27;,\n",
       "                                            max_depth=8, min_samples_leaf=4,\n",
       "                                            n_estimators=250, n_jobs=-1,\n",
       "                                            oob_score=True, random_state=0),\n",
       "             n_jobs=-1,\n",
       "             param_grid=[{&#x27;bootstrap&#x27;: [True, False], &#x27;max_depth&#x27;: [8],\n",
       "                          &#x27;min_samples_leaf&#x27;: [8], &#x27;min_samples_split&#x27;: [2],\n",
       "                          &#x27;n_estimators&#x27;: [500], &#x27;oob_score&#x27;: [True, False]}],\n",
       "             scoring=&#x27;balanced_accuracy&#x27;, verbose=3)</pre><b>In a Jupyter environment, please rerun this cell to show the HTML representation or trust the notebook. <br />On GitHub, the HTML representation is unable to render, please try loading this page with nbviewer.org.</b></div><div class=\"sk-container\" hidden><div class=\"sk-item sk-dashed-wrapped\"><div class=\"sk-label-container\"><div class=\"sk-label sk-toggleable\"><input class=\"sk-toggleable__control sk-hidden--visually\" id=\"sk-estimator-id-22\" type=\"checkbox\" ><label for=\"sk-estimator-id-22\" class=\"sk-toggleable__label sk-toggleable__label-arrow\">GridSearchCV</label><div class=\"sk-toggleable__content\"><pre>GridSearchCV(cv=5,\n",
       "             estimator=ExtraTreesClassifier(bootstrap=True,\n",
       "                                            class_weight=&#x27;balanced&#x27;,\n",
       "                                            max_depth=8, min_samples_leaf=4,\n",
       "                                            n_estimators=250, n_jobs=-1,\n",
       "                                            oob_score=True, random_state=0),\n",
       "             n_jobs=-1,\n",
       "             param_grid=[{&#x27;bootstrap&#x27;: [True, False], &#x27;max_depth&#x27;: [8],\n",
       "                          &#x27;min_samples_leaf&#x27;: [8], &#x27;min_samples_split&#x27;: [2],\n",
       "                          &#x27;n_estimators&#x27;: [500], &#x27;oob_score&#x27;: [True, False]}],\n",
       "             scoring=&#x27;balanced_accuracy&#x27;, verbose=3)</pre></div></div></div><div class=\"sk-parallel\"><div class=\"sk-parallel-item\"><div class=\"sk-item\"><div class=\"sk-label-container\"><div class=\"sk-label sk-toggleable\"><input class=\"sk-toggleable__control sk-hidden--visually\" id=\"sk-estimator-id-23\" type=\"checkbox\" ><label for=\"sk-estimator-id-23\" class=\"sk-toggleable__label sk-toggleable__label-arrow\">estimator: ExtraTreesClassifier</label><div class=\"sk-toggleable__content\"><pre>ExtraTreesClassifier(bootstrap=True, class_weight=&#x27;balanced&#x27;, max_depth=8,\n",
       "                     min_samples_leaf=4, n_estimators=250, n_jobs=-1,\n",
       "                     oob_score=True, random_state=0)</pre></div></div></div><div class=\"sk-serial\"><div class=\"sk-item\"><div class=\"sk-estimator sk-toggleable\"><input class=\"sk-toggleable__control sk-hidden--visually\" id=\"sk-estimator-id-24\" type=\"checkbox\" ><label for=\"sk-estimator-id-24\" class=\"sk-toggleable__label sk-toggleable__label-arrow\">ExtraTreesClassifier</label><div class=\"sk-toggleable__content\"><pre>ExtraTreesClassifier(bootstrap=True, class_weight=&#x27;balanced&#x27;, max_depth=8,\n",
       "                     min_samples_leaf=4, n_estimators=250, n_jobs=-1,\n",
       "                     oob_score=True, random_state=0)</pre></div></div></div></div></div></div></div></div></div></div>"
      ],
      "text/plain": [
       "GridSearchCV(cv=5,\n",
       "             estimator=ExtraTreesClassifier(bootstrap=True,\n",
       "                                            class_weight='balanced',\n",
       "                                            max_depth=8, min_samples_leaf=4,\n",
       "                                            n_estimators=250, n_jobs=-1,\n",
       "                                            oob_score=True, random_state=0),\n",
       "             n_jobs=-1,\n",
       "             param_grid=[{'bootstrap': [True, False], 'max_depth': [8],\n",
       "                          'min_samples_leaf': [8], 'min_samples_split': [2],\n",
       "                          'n_estimators': [500], 'oob_score': [True, False]}],\n",
       "             scoring='balanced_accuracy', verbose=3)"
      ]
     },
     "execution_count": 46,
     "metadata": {},
     "output_type": "execute_result"
    }
   ],
   "source": [
    "g = GridSearchCV(clf, param_grid, cv=5, scoring='balanced_accuracy', n_jobs=-1, verbose=3)\n",
    "g.fit(temp[user_id][0], temp[user_id][1])"
   ]
  },
  {
   "cell_type": "code",
   "execution_count": 47,
   "metadata": {},
   "outputs": [
    {
     "data": {
      "text/html": [
       "<style>#sk-container-id-13 {color: black;background-color: white;}#sk-container-id-13 pre{padding: 0;}#sk-container-id-13 div.sk-toggleable {background-color: white;}#sk-container-id-13 label.sk-toggleable__label {cursor: pointer;display: block;width: 100%;margin-bottom: 0;padding: 0.3em;box-sizing: border-box;text-align: center;}#sk-container-id-13 label.sk-toggleable__label-arrow:before {content: \"▸\";float: left;margin-right: 0.25em;color: #696969;}#sk-container-id-13 label.sk-toggleable__label-arrow:hover:before {color: black;}#sk-container-id-13 div.sk-estimator:hover label.sk-toggleable__label-arrow:before {color: black;}#sk-container-id-13 div.sk-toggleable__content {max-height: 0;max-width: 0;overflow: hidden;text-align: left;background-color: #f0f8ff;}#sk-container-id-13 div.sk-toggleable__content pre {margin: 0.2em;color: black;border-radius: 0.25em;background-color: #f0f8ff;}#sk-container-id-13 input.sk-toggleable__control:checked~div.sk-toggleable__content {max-height: 200px;max-width: 100%;overflow: auto;}#sk-container-id-13 input.sk-toggleable__control:checked~label.sk-toggleable__label-arrow:before {content: \"▾\";}#sk-container-id-13 div.sk-estimator input.sk-toggleable__control:checked~label.sk-toggleable__label {background-color: #d4ebff;}#sk-container-id-13 div.sk-label input.sk-toggleable__control:checked~label.sk-toggleable__label {background-color: #d4ebff;}#sk-container-id-13 input.sk-hidden--visually {border: 0;clip: rect(1px 1px 1px 1px);clip: rect(1px, 1px, 1px, 1px);height: 1px;margin: -1px;overflow: hidden;padding: 0;position: absolute;width: 1px;}#sk-container-id-13 div.sk-estimator {font-family: monospace;background-color: #f0f8ff;border: 1px dotted black;border-radius: 0.25em;box-sizing: border-box;margin-bottom: 0.5em;}#sk-container-id-13 div.sk-estimator:hover {background-color: #d4ebff;}#sk-container-id-13 div.sk-parallel-item::after {content: \"\";width: 100%;border-bottom: 1px solid gray;flex-grow: 1;}#sk-container-id-13 div.sk-label:hover label.sk-toggleable__label {background-color: #d4ebff;}#sk-container-id-13 div.sk-serial::before {content: \"\";position: absolute;border-left: 1px solid gray;box-sizing: border-box;top: 0;bottom: 0;left: 50%;z-index: 0;}#sk-container-id-13 div.sk-serial {display: flex;flex-direction: column;align-items: center;background-color: white;padding-right: 0.2em;padding-left: 0.2em;position: relative;}#sk-container-id-13 div.sk-item {position: relative;z-index: 1;}#sk-container-id-13 div.sk-parallel {display: flex;align-items: stretch;justify-content: center;background-color: white;position: relative;}#sk-container-id-13 div.sk-item::before, #sk-container-id-13 div.sk-parallel-item::before {content: \"\";position: absolute;border-left: 1px solid gray;box-sizing: border-box;top: 0;bottom: 0;left: 50%;z-index: -1;}#sk-container-id-13 div.sk-parallel-item {display: flex;flex-direction: column;z-index: 1;position: relative;background-color: white;}#sk-container-id-13 div.sk-parallel-item:first-child::after {align-self: flex-end;width: 50%;}#sk-container-id-13 div.sk-parallel-item:last-child::after {align-self: flex-start;width: 50%;}#sk-container-id-13 div.sk-parallel-item:only-child::after {width: 0;}#sk-container-id-13 div.sk-dashed-wrapped {border: 1px dashed gray;margin: 0 0.4em 0.5em 0.4em;box-sizing: border-box;padding-bottom: 0.4em;background-color: white;}#sk-container-id-13 div.sk-label label {font-family: monospace;font-weight: bold;display: inline-block;line-height: 1.2em;}#sk-container-id-13 div.sk-label-container {text-align: center;}#sk-container-id-13 div.sk-container {/* jupyter's `normalize.less` sets `[hidden] { display: none; }` but bootstrap.min.css set `[hidden] { display: none !important; }` so we also need the `!important` here to be able to override the default hidden behavior on the sphinx rendered scikit-learn.org. See: https://github.com/scikit-learn/scikit-learn/issues/21755 */display: inline-block !important;position: relative;}#sk-container-id-13 div.sk-text-repr-fallback {display: none;}</style><div id=\"sk-container-id-13\" class=\"sk-top-container\"><div class=\"sk-text-repr-fallback\"><pre>ExtraTreesClassifier(bootstrap=True, class_weight=&#x27;balanced&#x27;, max_depth=8,\n",
       "                     min_samples_leaf=8, n_estimators=500, n_jobs=-1,\n",
       "                     oob_score=True, random_state=0)</pre><b>In a Jupyter environment, please rerun this cell to show the HTML representation or trust the notebook. <br />On GitHub, the HTML representation is unable to render, please try loading this page with nbviewer.org.</b></div><div class=\"sk-container\" hidden><div class=\"sk-item\"><div class=\"sk-estimator sk-toggleable\"><input class=\"sk-toggleable__control sk-hidden--visually\" id=\"sk-estimator-id-25\" type=\"checkbox\" checked><label for=\"sk-estimator-id-25\" class=\"sk-toggleable__label sk-toggleable__label-arrow\">ExtraTreesClassifier</label><div class=\"sk-toggleable__content\"><pre>ExtraTreesClassifier(bootstrap=True, class_weight=&#x27;balanced&#x27;, max_depth=8,\n",
       "                     min_samples_leaf=8, n_estimators=500, n_jobs=-1,\n",
       "                     oob_score=True, random_state=0)</pre></div></div></div></div></div>"
      ],
      "text/plain": [
       "ExtraTreesClassifier(bootstrap=True, class_weight='balanced', max_depth=8,\n",
       "                     min_samples_leaf=8, n_estimators=500, n_jobs=-1,\n",
       "                     oob_score=True, random_state=0)"
      ]
     },
     "execution_count": 47,
     "metadata": {},
     "output_type": "execute_result"
    }
   ],
   "source": [
    "g.best_estimator_\n",
    "# g.best_score_"
   ]
  },
  {
   "cell_type": "code",
   "execution_count": 23,
   "metadata": {},
   "outputs": [],
   "source": [
    "clf = ExtraTreesClassifier(\n",
    "                n_estimators = 500,\n",
    "                random_state = random_state, \n",
    "                n_jobs = -1, \n",
    "                max_features = 'sqrt', \n",
    "                max_depth = 8, \n",
    "                min_samples_split = 8, \n",
    "                min_samples_leaf = 8,\n",
    "                # oob_score = True, \n",
    "                # bootstrap = True, \n",
    "                # class_weight = 'balanced'\n",
    "            )\n",
    "\n",
    "clf.fit(temp[user_id][0], temp[user_id][1])\n",
    "y_pred = clf.predict(temp[user_id][2])"
   ]
  },
  {
   "cell_type": "code",
   "execution_count": 24,
   "metadata": {},
   "outputs": [
    {
     "name": "stdout",
     "output_type": "stream",
     "text": [
      "0.40479985737806345\n"
     ]
    }
   ],
   "source": [
    "from sklearn.metrics import balanced_accuracy_score\n",
    "\n",
    "score = balanced_accuracy_score(temp[user_id][3], y_pred)\n",
    "print(score)"
   ]
  },
  {
   "cell_type": "code",
   "execution_count": null,
   "metadata": {},
   "outputs": [],
   "source": []
  }
 ],
 "metadata": {
  "kernelspec": {
   "display_name": "Python 3.9.12 ('stress')",
   "language": "python",
   "name": "python3"
  },
  "language_info": {
   "codemirror_mode": {
    "name": "ipython",
    "version": 3
   },
   "file_extension": ".py",
   "mimetype": "text/x-python",
   "name": "python",
   "nbconvert_exporter": "python",
   "pygments_lexer": "ipython3",
   "version": "3.9.12"
  },
  "orig_nbformat": 4,
  "vscode": {
   "interpreter": {
    "hash": "37ebc3d14ab14189c4eae9bca0430f788ed6f529827f083fec73cc217c56eda2"
   }
  }
 },
 "nbformat": 4,
 "nbformat_minor": 2
}
