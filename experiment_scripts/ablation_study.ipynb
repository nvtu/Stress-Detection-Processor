{
 "cells": [
  {
   "cell_type": "code",
   "execution_count": null,
   "metadata": {},
   "outputs": [],
   "source": [
    "import __init__\n",
    "from data_processing.data_splitter import DataSplitter\n",
    "from datapath_manager import ITWDataPathManager, DataPathManager\n",
    "from collections import defaultdict\n",
    "import pandas as pd\n",
    "import matplotlib.pyplot as plt\n",
    "import numpy as np\n",
    "import os\n",
    "import shap\n",
    "from sklearn.ensemble import ExtraTreesClassifier\n",
    "from sklearn.linear_model import LogisticRegression\n",
    "from evaluators import Evaluator\n",
    "from sklearn.metrics import ConfusionMatrixDisplay\n",
    "from sklearn.preprocessing import StandardScaler\n",
    "from sklearn.model_selection import LeaveOneGroupOut\n",
    "from sklearn.neighbors import KNeighborsClassifier\n",
    "from sklearn.feature_selection import SelectFromModel\n",
    "%matplotlib inline\n",
    "from trainers import MachineLearningModelTrainer, BranchNeuralNetworkTrainer\n",
    "from tqdm import tqdm\n",
    "from dataloader import EmbeddingDataLoader\n",
    "import yaml"
   ]
  },
  {
   "cell_type": "code",
   "execution_count": null,
   "metadata": {},
   "outputs": [],
   "source": [
    "WINDOW_SHIFT = 0.25\n",
    "WINDOW_SIZE = [60, 120]\n",
    "DATASET_NAME = 'DCU_NVT_EXP2'\n",
    "dl_model_name = 'branch_neural_network'\n",
    "ml_model_name = 'extra_trees'\n",
    "model_type = 'dependent'\n",
    "test_size = 0.2\n",
    "target_metrics = ['accuracy', 'balanced_accuracy', 'precision', 'recall', 'f1']"
   ]
  },
  {
   "cell_type": "code",
   "execution_count": null,
   "metadata": {},
   "outputs": [],
   "source": [
    "def train_model(window_size: int, signal_type: str, indices = None):\n",
    "    \n",
    "    data_ws = defaultdict(dict)\n",
    "    models_ws = defaultdict(dict)\n",
    "    eval_ws = defaultdict(dict)\n",
    "    \n",
    "    ds_splitter = DataSplitter(DATASET_NAME, model_type, test_size)\n",
    "    for _ in tqdm(range(ds_splitter.num_subjects)):\n",
    "        data = ds_splitter.next()\n",
    "        X_train, y_train, X_test, y_test, target_user = data\n",
    "\n",
    "        if indices is not None:\n",
    "            X_train = X_train[:, indices]\n",
    "            X_test = X_test[:, indices]\n",
    "\n",
    "        # Log data\n",
    "        data_ws[target_user]['X_train'] = X_train\n",
    "        data_ws[target_user]['y_train'] = y_train\n",
    "        data_ws[target_user]['X_test'] = X_test\n",
    "        data_ws[target_user]['y_test'] = y_test\n",
    "\n",
    "        train_embedding_dl = EmbeddingDataLoader(X_train, y_train)\n",
    "        validate_embedding_dl = EmbeddingDataLoader(X_test, y_test)\n",
    "\n",
    "        ds_path_manager = DataPathManager(DATASET_NAME)\n",
    "\n",
    "        # Train ML model\n",
    "        ml_model_path = ds_path_manager.get_saved_model_path(target_user, ml_model_name, model_type, window_size, WINDOW_SHIFT)\n",
    "        ml_trainer = MachineLearningModelTrainer(\n",
    "            ml_model_path,\n",
    "            ml_model_name,\n",
    "            target_metrics = target_metrics,\n",
    "            random_state = 0\n",
    "        )\n",
    "        eval_results = ml_trainer.train(train_embedding_dl, validate_embedding_dl)\n",
    "        models_ws[target_user][ml_model_name] = ml_trainer.model\n",
    "        eval_ws[target_user][ml_model_name] = eval_results\n",
    "\n",
    "        # Train DL model\n",
    "        config_path = os.path.join(os.path.dirname(os.getcwd()), 'models', 'model_config', f'branchnn_sensor_combination_{signal_type}.yaml')\n",
    "        config_dict = yaml.safe_load(open(config_path, 'r'))\n",
    "\n",
    "        dl_model_path = ds_path_manager.get_saved_model_path(target_user, dl_model_name, model_type, window_size, WINDOW_SHIFT)\n",
    "        saved_log_path = './logs.txt'\n",
    "        dl_trainer = BranchNeuralNetworkTrainer(\n",
    "            saved_log_path,\n",
    "            dl_model_path,\n",
    "            config_dict,\n",
    "            target_metrics = target_metrics,\n",
    "        )\n",
    "        eval_results = dl_trainer.train(train_embedding_dl, validate_embedding_dl, num_epochs = 1000)\n",
    "\n",
    "        models_ws[target_user][dl_model_name] = dl_trainer.model\n",
    "        eval_ws[target_user][dl_model_name] = eval_results\n",
    "    return data_ws, models_ws, eval_ws"
   ]
  },
  {
   "cell_type": "markdown",
   "metadata": {},
   "source": [
    "# EVALUATION SCORES OF WINDOW SIZE OF 60 and 120"
   ]
  },
  {
   "cell_type": "code",
   "execution_count": null,
   "metadata": {},
   "outputs": [],
   "source": [
    "# data_60, models_60, eval_60 = train_model(WINDOW_SIZE[0])"
   ]
  },
  {
   "cell_type": "code",
   "execution_count": null,
   "metadata": {},
   "outputs": [],
   "source": [
    "# data_120, models_120, eval_120 = train_model(WINDOW_SIZE[1])"
   ]
  },
  {
   "cell_type": "code",
   "execution_count": null,
   "metadata": {},
   "outputs": [],
   "source": [
    "# target_users = data_60.keys()\n",
    "# for user_id in target_users:\n",
    "#     print(' ----------------------------------------------------- ')\n",
    "#     print(f'User {user_id}')\n",
    "#     print(eval_60[user_id][ml_model_name])\n",
    "#     print(eval_120[user_id][ml_model_name])\n",
    "#     print(eval_60[user_id][dl_model_name])\n",
    "#     print(eval_120[user_id][dl_model_name])"
   ]
  },
  {
   "cell_type": "markdown",
   "metadata": {},
   "source": [
    "# EVALUATION SCORE ON SIGNAL SENSOR"
   ]
  },
  {
   "cell_type": "code",
   "execution_count": null,
   "metadata": {},
   "outputs": [],
   "source": [
    "# _, models_bvp, eval_bvp = train_model(WINDOW_SIZE[0], 'bvp', indices = [i for i in range(30)])\n",
    "# _, models_eda, eval_eda = train_model(WINDOW_SIZE[1], indices = [i for i in range(30, 66)])\n",
    "# _, models_temp, eval_temp = train_model(WINDOW_SIZE[1], indices = [i for i in range(66, 72)])\n",
    "_, models_bvp_eda, eval_bvp_eda = train_model(WINDOW_SIZE[0], 'bvp_eda', indices = [i for i in range(66)])\n",
    "# _, models_eda_temp, eval_eda_temp = train_model(WINDOW_SIZE[1], indices = [i for i in range(30, 72)])\n",
    "# _, models_bvp_temp, eval_bvp_temp = train_model(WINDOW_SIZE[1], indices = [i for i in range(72) if i not in range(30, 66)])"
   ]
  },
  {
   "cell_type": "code",
   "execution_count": null,
   "metadata": {},
   "outputs": [],
   "source": [
    "target_users = models_bvp_eda.keys()\n",
    "for user_id in target_users:\n",
    "    print(' ----------------------------------------------------- ')\n",
    "    print(f'User {user_id}')\n",
    "    print(f'---- bvp_eda ----')\n",
    "    print(eval_bvp_eda[user_id][ml_model_name])\n",
    "    print(eval_bvp_eda[user_id][dl_model_name])"
   ]
  },
  {
   "cell_type": "code",
   "execution_count": null,
   "metadata": {},
   "outputs": [],
   "source": []
  }
 ],
 "metadata": {
  "kernelspec": {
   "display_name": "Python 3.9.12 ('stress')",
   "language": "python",
   "name": "python3"
  },
  "language_info": {
   "codemirror_mode": {
    "name": "ipython",
    "version": 3
   },
   "file_extension": ".py",
   "mimetype": "text/x-python",
   "name": "python",
   "nbconvert_exporter": "python",
   "pygments_lexer": "ipython3",
   "version": "3.9.12"
  },
  "orig_nbformat": 4,
  "vscode": {
   "interpreter": {
    "hash": "37ebc3d14ab14189c4eae9bca0430f788ed6f529827f083fec73cc217c56eda2"
   }
  }
 },
 "nbformat": 4,
 "nbformat_minor": 2
}
