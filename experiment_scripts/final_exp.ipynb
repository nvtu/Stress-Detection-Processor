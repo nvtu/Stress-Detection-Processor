{
 "cells": [
  {
   "cell_type": "code",
   "execution_count": 1,
   "metadata": {},
   "outputs": [
    {
     "name": "stderr",
     "output_type": "stream",
     "text": [
      "/home/nmduy/anaconda3/envs/stress/lib/python3.9/site-packages/tqdm/auto.py:22: TqdmWarning: IProgress not found. Please update jupyter and ipywidgets. See https://ipywidgets.readthedocs.io/en/stable/user_install.html\n",
      "  from .autonotebook import tqdm as notebook_tqdm\n"
     ]
    }
   ],
   "source": [
    "import __init__\n",
    "import os\n",
    "import numpy as np\n",
    "import pandas as pd\n",
    "import yaml\n",
    "import joblib\n",
    "from tqdm import tqdm\n",
    "from collections import Counter\n",
    "from sklearn.preprocessing import StandardScaler\n",
    "from sklearn.model_selection import LeaveOneGroupOut\n",
    "from sklearn.ensemble import ExtraTreesClassifier\n",
    "from sklearn.linear_model import LogisticRegression, SGDClassifier\n",
    "from datapath_manager import DataPathManager, ITWDataPathManager\n",
    "from trainers import MachineLearningModelTrainer, BranchNeuralNetworkTrainer\n",
    "from dataloader import EmbeddingDataLoader\n",
    "from evaluators import Evaluator"
   ]
  },
  {
   "cell_type": "code",
   "execution_count": 2,
   "metadata": {},
   "outputs": [],
   "source": [
    "user_id = 'ltkhiem'\n",
    "dates = ['2022-10-16', '2022-10-17', '2022-10-18', '2022-10-20', '2022-10-21', '2022-10-22']"
   ]
  },
  {
   "cell_type": "code",
   "execution_count": 3,
   "metadata": {},
   "outputs": [],
   "source": [
    "model_path = os.path.abspath(f'./models/{user_id}')"
   ]
  },
  {
   "cell_type": "markdown",
   "metadata": {},
   "source": [
    "# Lab-based model for the targeted user"
   ]
  },
  {
   "cell_type": "code",
   "execution_count": 4,
   "metadata": {},
   "outputs": [],
   "source": [
    "lab_dataset_name = 'DCU_NVT_EXP2'\n",
    "window_size = 60\n",
    "window_shift = 0.25\n",
    "signal_type = 'bvp_eda_temp'"
   ]
  },
  {
   "cell_type": "code",
   "execution_count": 5,
   "metadata": {},
   "outputs": [],
   "source": [
    "dp_manager = DataPathManager(lab_dataset_name)\n",
    "lab_feature_folder_path = os.path.dirname(dp_manager.get_feature_path(user_id, signal_type, window_size, window_shift))\n",
    "ground_truth_path = os.path.join(lab_feature_folder_path, 'ground_truth.npy')\n",
    "tasks_index_path = os.path.join(lab_feature_folder_path, 'tasks_index.npy')"
   ]
  },
  {
   "cell_type": "code",
   "execution_count": 6,
   "metadata": {},
   "outputs": [],
   "source": [
    "lab_features = []\n",
    "signals = ['bvp', 'eda', 'temp']\n",
    "for signal in signals:\n",
    "    signal_path = os.path.join(lab_feature_folder_path, f'{signal}.npy')\n",
    "    signal_data = np.load(signal_path)\n",
    "    lab_features.append(signal_data)\n",
    "lab_features = np.concatenate(lab_features, axis=1)\n",
    "tasks_index = np.load(tasks_index_path)\n",
    "ground_truth = np.load(ground_truth_path) "
   ]
  },
  {
   "cell_type": "code",
   "execution_count": 7,
   "metadata": {},
   "outputs": [],
   "source": [
    "# Split train/test lab-based model\n",
    "def split_train_test(indices, test_size: float = 0.3):\n",
    "        \"\"\"\n",
    "        Split train and test data for subject-dependent model training:\n",
    "            - Train_data: (1 - test_size) * number of data of a class\n",
    "            - Test_data: test_size * number of data of a class \n",
    "        NOTE: This means that this approach of data splitting simulate the real-life situation \n",
    "        where the test data is the segment of data that is recorded later after we have the train data.\n",
    "        \"\"\"\n",
    "        cut_point = int((1 - test_size) * len(indices))\n",
    "        train_indices = indices[:cut_point].tolist()\n",
    "        test_indices = indices[cut_point:].tolist()\n",
    "        return train_indices, test_indices\n",
    "\n",
    "\n",
    "TEST_SIZE = 0.2\n",
    "VALID_SIZE = 0.1\n",
    "indices = np.arange(lab_features.shape[0]) # The indices of the lab-based features\n",
    "train_indices, valid_indices, test_indices = [], [], []\n",
    "for _, task_test_index in LeaveOneGroupOut().split(indices, y=None, groups=tasks_index):\n",
    "    task_train_indices, task_test_indices = split_train_test(indices[task_test_index], test_size = TEST_SIZE)\n",
    "    task_train_indices, task_valid_indices = split_train_test(indices[task_train_indices], test_size = VALID_SIZE)\n",
    "    train_indices += task_train_indices\n",
    "    valid_indices += task_valid_indices\n",
    "    test_indices += task_test_indices"
   ]
  },
  {
   "cell_type": "markdown",
   "metadata": {},
   "source": [
    "### Train Deep-Fusion Model"
   ]
  },
  {
   "cell_type": "code",
   "execution_count": 8,
   "metadata": {},
   "outputs": [],
   "source": [
    "X_train, y_train = lab_features[train_indices], ground_truth[train_indices]\n",
    "X_valid, y_valid = lab_features[valid_indices], ground_truth[valid_indices]\n",
    "X_test, y_test = lab_features[test_indices], ground_truth[test_indices]"
   ]
  },
  {
   "cell_type": "code",
   "execution_count": 9,
   "metadata": {},
   "outputs": [],
   "source": [
    "train_dataloader = EmbeddingDataLoader(X_train, y_train)\n",
    "validate_dataloader = EmbeddingDataLoader(X_valid, y_valid)\n",
    "test_dataloader = EmbeddingDataLoader(X_test, y_test)"
   ]
  },
  {
   "cell_type": "code",
   "execution_count": 10,
   "metadata": {},
   "outputs": [],
   "source": [
    "# Load deep model configuration\n",
    "user_model_saved_path = os.path.join(f'{model_path}/lab_deep_fusion.pth')\n",
    "config_path = os.path.join(\n",
    "    os.path.dirname(os.getcwd()), \n",
    "    'models', 'model_config', \n",
    "    f'branchnn_sensor_combination_{signal_type}.yaml'\n",
    ")\n",
    "config_dict = yaml.safe_load(open(config_path, 'r'))"
   ]
  },
  {
   "cell_type": "code",
   "execution_count": 11,
   "metadata": {},
   "outputs": [
    {
     "name": "stdout",
     "output_type": "stream",
     "text": [
      "LOAD PRETRAINED MODEL\n"
     ]
    }
   ],
   "source": [
    "df_clf = BranchNeuralNetworkTrainer('./logs.txt', \n",
    "    user_model_saved_path, \n",
    "    config_dict, \n",
    "    target_metrics=['balanced_accuracy', 'f1'],\n",
    ")"
   ]
  },
  {
   "cell_type": "code",
   "execution_count": 12,
   "metadata": {},
   "outputs": [],
   "source": [
    "# df_clf.train(train_dataloader, validate_dataloader, num_epochs=1000)"
   ]
  },
  {
   "cell_type": "code",
   "execution_count": 13,
   "metadata": {},
   "outputs": [
    {
     "name": "stdout",
     "output_type": "stream",
     "text": [
      "{'accuracy': 0.7399913904433921, 'balanced_accuracy': 0.6873414337788578, 'precision': 0.7622950819672131, 'recall': 0.868, 'f1': 0.8117206982543641}\n"
     ]
    }
   ],
   "source": [
    "y_pred = df_clf.predict(test_dataloader)\n",
    "print(Evaluator().evaluate(y_test, y_pred))"
   ]
  },
  {
   "cell_type": "markdown",
   "metadata": {},
   "source": [
    "### Train ExtraTreesClassifier Model"
   ]
  },
  {
   "cell_type": "code",
   "execution_count": 14,
   "metadata": {},
   "outputs": [],
   "source": [
    "X_train = np.concatenate([lab_features[train_indices], lab_features[valid_indices]], axis=0)\n",
    "y_train = np.concatenate([ground_truth[train_indices], ground_truth[valid_indices]], axis=0)\n",
    "X_test, y_test = lab_features[test_indices], ground_truth[test_indices]"
   ]
  },
  {
   "cell_type": "code",
   "execution_count": 15,
   "metadata": {},
   "outputs": [],
   "source": [
    "et_clf = ExtraTreesClassifier(\n",
    "    n_estimators = 500,\n",
    "    random_state = 0, \n",
    "    n_jobs = -1, \n",
    "    max_features = 'sqrt', \n",
    "    max_depth = 8, \n",
    "    min_samples_split = 2, \n",
    "    min_samples_leaf = 8,\n",
    "    oob_score = True, \n",
    "    bootstrap = True, \n",
    "    class_weight = 'balanced'\n",
    ")"
   ]
  },
  {
   "cell_type": "code",
   "execution_count": 16,
   "metadata": {},
   "outputs": [
    {
     "data": {
      "text/html": [
       "<style>#sk-container-id-1 {color: black;background-color: white;}#sk-container-id-1 pre{padding: 0;}#sk-container-id-1 div.sk-toggleable {background-color: white;}#sk-container-id-1 label.sk-toggleable__label {cursor: pointer;display: block;width: 100%;margin-bottom: 0;padding: 0.3em;box-sizing: border-box;text-align: center;}#sk-container-id-1 label.sk-toggleable__label-arrow:before {content: \"▸\";float: left;margin-right: 0.25em;color: #696969;}#sk-container-id-1 label.sk-toggleable__label-arrow:hover:before {color: black;}#sk-container-id-1 div.sk-estimator:hover label.sk-toggleable__label-arrow:before {color: black;}#sk-container-id-1 div.sk-toggleable__content {max-height: 0;max-width: 0;overflow: hidden;text-align: left;background-color: #f0f8ff;}#sk-container-id-1 div.sk-toggleable__content pre {margin: 0.2em;color: black;border-radius: 0.25em;background-color: #f0f8ff;}#sk-container-id-1 input.sk-toggleable__control:checked~div.sk-toggleable__content {max-height: 200px;max-width: 100%;overflow: auto;}#sk-container-id-1 input.sk-toggleable__control:checked~label.sk-toggleable__label-arrow:before {content: \"▾\";}#sk-container-id-1 div.sk-estimator input.sk-toggleable__control:checked~label.sk-toggleable__label {background-color: #d4ebff;}#sk-container-id-1 div.sk-label input.sk-toggleable__control:checked~label.sk-toggleable__label {background-color: #d4ebff;}#sk-container-id-1 input.sk-hidden--visually {border: 0;clip: rect(1px 1px 1px 1px);clip: rect(1px, 1px, 1px, 1px);height: 1px;margin: -1px;overflow: hidden;padding: 0;position: absolute;width: 1px;}#sk-container-id-1 div.sk-estimator {font-family: monospace;background-color: #f0f8ff;border: 1px dotted black;border-radius: 0.25em;box-sizing: border-box;margin-bottom: 0.5em;}#sk-container-id-1 div.sk-estimator:hover {background-color: #d4ebff;}#sk-container-id-1 div.sk-parallel-item::after {content: \"\";width: 100%;border-bottom: 1px solid gray;flex-grow: 1;}#sk-container-id-1 div.sk-label:hover label.sk-toggleable__label {background-color: #d4ebff;}#sk-container-id-1 div.sk-serial::before {content: \"\";position: absolute;border-left: 1px solid gray;box-sizing: border-box;top: 0;bottom: 0;left: 50%;z-index: 0;}#sk-container-id-1 div.sk-serial {display: flex;flex-direction: column;align-items: center;background-color: white;padding-right: 0.2em;padding-left: 0.2em;position: relative;}#sk-container-id-1 div.sk-item {position: relative;z-index: 1;}#sk-container-id-1 div.sk-parallel {display: flex;align-items: stretch;justify-content: center;background-color: white;position: relative;}#sk-container-id-1 div.sk-item::before, #sk-container-id-1 div.sk-parallel-item::before {content: \"\";position: absolute;border-left: 1px solid gray;box-sizing: border-box;top: 0;bottom: 0;left: 50%;z-index: -1;}#sk-container-id-1 div.sk-parallel-item {display: flex;flex-direction: column;z-index: 1;position: relative;background-color: white;}#sk-container-id-1 div.sk-parallel-item:first-child::after {align-self: flex-end;width: 50%;}#sk-container-id-1 div.sk-parallel-item:last-child::after {align-self: flex-start;width: 50%;}#sk-container-id-1 div.sk-parallel-item:only-child::after {width: 0;}#sk-container-id-1 div.sk-dashed-wrapped {border: 1px dashed gray;margin: 0 0.4em 0.5em 0.4em;box-sizing: border-box;padding-bottom: 0.4em;background-color: white;}#sk-container-id-1 div.sk-label label {font-family: monospace;font-weight: bold;display: inline-block;line-height: 1.2em;}#sk-container-id-1 div.sk-label-container {text-align: center;}#sk-container-id-1 div.sk-container {/* jupyter's `normalize.less` sets `[hidden] { display: none; }` but bootstrap.min.css set `[hidden] { display: none !important; }` so we also need the `!important` here to be able to override the default hidden behavior on the sphinx rendered scikit-learn.org. See: https://github.com/scikit-learn/scikit-learn/issues/21755 */display: inline-block !important;position: relative;}#sk-container-id-1 div.sk-text-repr-fallback {display: none;}</style><div id=\"sk-container-id-1\" class=\"sk-top-container\"><div class=\"sk-text-repr-fallback\"><pre>ExtraTreesClassifier(bootstrap=True, class_weight=&#x27;balanced&#x27;, max_depth=8,\n",
       "                     min_samples_leaf=8, n_estimators=500, n_jobs=-1,\n",
       "                     oob_score=True, random_state=0)</pre><b>In a Jupyter environment, please rerun this cell to show the HTML representation or trust the notebook. <br />On GitHub, the HTML representation is unable to render, please try loading this page with nbviewer.org.</b></div><div class=\"sk-container\" hidden><div class=\"sk-item\"><div class=\"sk-estimator sk-toggleable\"><input class=\"sk-toggleable__control sk-hidden--visually\" id=\"sk-estimator-id-1\" type=\"checkbox\" checked><label for=\"sk-estimator-id-1\" class=\"sk-toggleable__label sk-toggleable__label-arrow\">ExtraTreesClassifier</label><div class=\"sk-toggleable__content\"><pre>ExtraTreesClassifier(bootstrap=True, class_weight=&#x27;balanced&#x27;, max_depth=8,\n",
       "                     min_samples_leaf=8, n_estimators=500, n_jobs=-1,\n",
       "                     oob_score=True, random_state=0)</pre></div></div></div></div></div>"
      ],
      "text/plain": [
       "ExtraTreesClassifier(bootstrap=True, class_weight='balanced', max_depth=8,\n",
       "                     min_samples_leaf=8, n_estimators=500, n_jobs=-1,\n",
       "                     oob_score=True, random_state=0)"
      ]
     },
     "execution_count": 16,
     "metadata": {},
     "output_type": "execute_result"
    }
   ],
   "source": [
    "et_clf.fit(X_train, y_train)"
   ]
  },
  {
   "cell_type": "code",
   "execution_count": 17,
   "metadata": {},
   "outputs": [
    {
     "name": "stdout",
     "output_type": "stream",
     "text": [
      "{'accuracy': 0.8949634093844167, 'balanced_accuracy': 0.8887788578371811, 'precision': 0.9260515603799185, 'recall': 0.91, 'f1': 0.9179556153328849}\n"
     ]
    }
   ],
   "source": [
    "y_pred = et_clf.predict(X_test)\n",
    "print(Evaluator().evaluate(y_test, y_pred))"
   ]
  },
  {
   "cell_type": "code",
   "execution_count": 18,
   "metadata": {},
   "outputs": [
    {
     "data": {
      "text/plain": [
       "['/home/nvtu/PhD_Work/ExperimentProtocol2/stress_detection/experiment_scripts/models/ltkhiem/lab_et_clf.pkl']"
      ]
     },
     "execution_count": 18,
     "metadata": {},
     "output_type": "execute_result"
    }
   ],
   "source": [
    "data = {'model': et_clf, 'scaler': None}\n",
    "joblib.dump(data, os.path.join(model_path, 'lab_et_clf.pkl'))"
   ]
  },
  {
   "cell_type": "markdown",
   "metadata": {},
   "source": [
    "### Train Logistic Regression Model"
   ]
  },
  {
   "cell_type": "code",
   "execution_count": 19,
   "metadata": {},
   "outputs": [],
   "source": [
    "std_scaler = StandardScaler()\n",
    "X_train = std_scaler.fit_transform(np.concatenate([lab_features[train_indices], lab_features[valid_indices]], axis=0))\n",
    "y_train = np.concatenate([ground_truth[train_indices], ground_truth[valid_indices]], axis=0)\n",
    "X_test, y_test = std_scaler.transform(lab_features[test_indices]), ground_truth[test_indices]"
   ]
  },
  {
   "cell_type": "code",
   "execution_count": 20,
   "metadata": {},
   "outputs": [],
   "source": [
    "lr_classifier = LogisticRegression(\n",
    "    random_state = 0,\n",
    "    class_weight = 'balanced',\n",
    "    n_jobs = -1,\n",
    "    solver = 'saga',\n",
    "    max_iter = 50000,\n",
    ")"
   ]
  },
  {
   "cell_type": "code",
   "execution_count": 21,
   "metadata": {},
   "outputs": [
    {
     "data": {
      "text/html": [
       "<style>#sk-container-id-2 {color: black;background-color: white;}#sk-container-id-2 pre{padding: 0;}#sk-container-id-2 div.sk-toggleable {background-color: white;}#sk-container-id-2 label.sk-toggleable__label {cursor: pointer;display: block;width: 100%;margin-bottom: 0;padding: 0.3em;box-sizing: border-box;text-align: center;}#sk-container-id-2 label.sk-toggleable__label-arrow:before {content: \"▸\";float: left;margin-right: 0.25em;color: #696969;}#sk-container-id-2 label.sk-toggleable__label-arrow:hover:before {color: black;}#sk-container-id-2 div.sk-estimator:hover label.sk-toggleable__label-arrow:before {color: black;}#sk-container-id-2 div.sk-toggleable__content {max-height: 0;max-width: 0;overflow: hidden;text-align: left;background-color: #f0f8ff;}#sk-container-id-2 div.sk-toggleable__content pre {margin: 0.2em;color: black;border-radius: 0.25em;background-color: #f0f8ff;}#sk-container-id-2 input.sk-toggleable__control:checked~div.sk-toggleable__content {max-height: 200px;max-width: 100%;overflow: auto;}#sk-container-id-2 input.sk-toggleable__control:checked~label.sk-toggleable__label-arrow:before {content: \"▾\";}#sk-container-id-2 div.sk-estimator input.sk-toggleable__control:checked~label.sk-toggleable__label {background-color: #d4ebff;}#sk-container-id-2 div.sk-label input.sk-toggleable__control:checked~label.sk-toggleable__label {background-color: #d4ebff;}#sk-container-id-2 input.sk-hidden--visually {border: 0;clip: rect(1px 1px 1px 1px);clip: rect(1px, 1px, 1px, 1px);height: 1px;margin: -1px;overflow: hidden;padding: 0;position: absolute;width: 1px;}#sk-container-id-2 div.sk-estimator {font-family: monospace;background-color: #f0f8ff;border: 1px dotted black;border-radius: 0.25em;box-sizing: border-box;margin-bottom: 0.5em;}#sk-container-id-2 div.sk-estimator:hover {background-color: #d4ebff;}#sk-container-id-2 div.sk-parallel-item::after {content: \"\";width: 100%;border-bottom: 1px solid gray;flex-grow: 1;}#sk-container-id-2 div.sk-label:hover label.sk-toggleable__label {background-color: #d4ebff;}#sk-container-id-2 div.sk-serial::before {content: \"\";position: absolute;border-left: 1px solid gray;box-sizing: border-box;top: 0;bottom: 0;left: 50%;z-index: 0;}#sk-container-id-2 div.sk-serial {display: flex;flex-direction: column;align-items: center;background-color: white;padding-right: 0.2em;padding-left: 0.2em;position: relative;}#sk-container-id-2 div.sk-item {position: relative;z-index: 1;}#sk-container-id-2 div.sk-parallel {display: flex;align-items: stretch;justify-content: center;background-color: white;position: relative;}#sk-container-id-2 div.sk-item::before, #sk-container-id-2 div.sk-parallel-item::before {content: \"\";position: absolute;border-left: 1px solid gray;box-sizing: border-box;top: 0;bottom: 0;left: 50%;z-index: -1;}#sk-container-id-2 div.sk-parallel-item {display: flex;flex-direction: column;z-index: 1;position: relative;background-color: white;}#sk-container-id-2 div.sk-parallel-item:first-child::after {align-self: flex-end;width: 50%;}#sk-container-id-2 div.sk-parallel-item:last-child::after {align-self: flex-start;width: 50%;}#sk-container-id-2 div.sk-parallel-item:only-child::after {width: 0;}#sk-container-id-2 div.sk-dashed-wrapped {border: 1px dashed gray;margin: 0 0.4em 0.5em 0.4em;box-sizing: border-box;padding-bottom: 0.4em;background-color: white;}#sk-container-id-2 div.sk-label label {font-family: monospace;font-weight: bold;display: inline-block;line-height: 1.2em;}#sk-container-id-2 div.sk-label-container {text-align: center;}#sk-container-id-2 div.sk-container {/* jupyter's `normalize.less` sets `[hidden] { display: none; }` but bootstrap.min.css set `[hidden] { display: none !important; }` so we also need the `!important` here to be able to override the default hidden behavior on the sphinx rendered scikit-learn.org. See: https://github.com/scikit-learn/scikit-learn/issues/21755 */display: inline-block !important;position: relative;}#sk-container-id-2 div.sk-text-repr-fallback {display: none;}</style><div id=\"sk-container-id-2\" class=\"sk-top-container\"><div class=\"sk-text-repr-fallback\"><pre>LogisticRegression(class_weight=&#x27;balanced&#x27;, max_iter=50000, n_jobs=-1,\n",
       "                   random_state=0, solver=&#x27;saga&#x27;)</pre><b>In a Jupyter environment, please rerun this cell to show the HTML representation or trust the notebook. <br />On GitHub, the HTML representation is unable to render, please try loading this page with nbviewer.org.</b></div><div class=\"sk-container\" hidden><div class=\"sk-item\"><div class=\"sk-estimator sk-toggleable\"><input class=\"sk-toggleable__control sk-hidden--visually\" id=\"sk-estimator-id-2\" type=\"checkbox\" checked><label for=\"sk-estimator-id-2\" class=\"sk-toggleable__label sk-toggleable__label-arrow\">LogisticRegression</label><div class=\"sk-toggleable__content\"><pre>LogisticRegression(class_weight=&#x27;balanced&#x27;, max_iter=50000, n_jobs=-1,\n",
       "                   random_state=0, solver=&#x27;saga&#x27;)</pre></div></div></div></div></div>"
      ],
      "text/plain": [
       "LogisticRegression(class_weight='balanced', max_iter=50000, n_jobs=-1,\n",
       "                   random_state=0, solver='saga')"
      ]
     },
     "execution_count": 21,
     "metadata": {},
     "output_type": "execute_result"
    }
   ],
   "source": [
    "lr_classifier.fit(X_train, y_train)"
   ]
  },
  {
   "cell_type": "code",
   "execution_count": 22,
   "metadata": {},
   "outputs": [
    {
     "name": "stdout",
     "output_type": "stream",
     "text": [
      "{'accuracy': 0.7619457597933706, 'balanced_accuracy': 0.6983090319967598, 'precision': 0.7626178591236827, 'recall': 0.9166666666666666, 'f1': 0.8325764456554647}\n"
     ]
    }
   ],
   "source": [
    "y_pred = lr_classifier.predict(X_test)\n",
    "print(Evaluator().evaluate(y_test, y_pred))"
   ]
  },
  {
   "cell_type": "code",
   "execution_count": 23,
   "metadata": {},
   "outputs": [
    {
     "data": {
      "text/plain": [
       "['/home/nvtu/PhD_Work/ExperimentProtocol2/stress_detection/experiment_scripts/models/ltkhiem/lab_lr_clf.pkl']"
      ]
     },
     "execution_count": 23,
     "metadata": {},
     "output_type": "execute_result"
    }
   ],
   "source": [
    "data = {'model': lr_classifier, 'scaler': std_scaler}\n",
    "joblib.dump(data, os.path.join(model_path, 'lab_lr_clf.pkl'))"
   ]
  },
  {
   "cell_type": "markdown",
   "metadata": {},
   "source": [
    "# In-the-wild model for the targeted user"
   ]
  },
  {
   "cell_type": "code",
   "execution_count": 24,
   "metadata": {},
   "outputs": [],
   "source": [
    "itw_dataset_name = 'DCU_EXP2_ITW'"
   ]
  },
  {
   "cell_type": "code",
   "execution_count": 25,
   "metadata": {},
   "outputs": [],
   "source": [
    "def get_features_and_labels(user_id: str, date: str,):\n",
    "    dataset_path = ITWDataPathManager(itw_dataset_name).get_dataset_path()\n",
    "\n",
    "    user_date_feature_path = os.path.join(dataset_path, 'features', user_id, date)\n",
    "    feature_path = os.path.join(user_date_feature_path, 'X.npy')\n",
    "    gt_path = os.path.join(user_date_feature_path, 'y.npy')\n",
    "\n",
    "    feat = np.nan_to_num(np.load(feature_path))[:, :72]\n",
    "    gt = np.load(gt_path)\n",
    "    return feat, gt"
   ]
  },
  {
   "cell_type": "code",
   "execution_count": 26,
   "metadata": {},
   "outputs": [
    {
     "name": "stdout",
     "output_type": "stream",
     "text": [
      "Counter({0.0: 16619, 1.0: 1242})\n",
      "Counter({0.0: 30000, 1.0: 7224})\n",
      "Counter({0.0: 39579, 1.0: 6050})\n",
      "Counter({0.0: 48606})\n",
      "Counter({0.0: 23292, 1.0: 5447})\n",
      "Counter({0.0: 7408, 1.0: 2120})\n"
     ]
    }
   ],
   "source": [
    "# Load data\n",
    "feat_dates = [get_features_and_labels(user_id, date) for date in dates]\n",
    "for x in feat_dates:\n",
    "    print(Counter(x[1]))"
   ]
  },
  {
   "cell_type": "markdown",
   "metadata": {},
   "source": [
    "## 1. Apply lab-based model to in-the-wild data"
   ]
  },
  {
   "cell_type": "code",
   "execution_count": 27,
   "metadata": {},
   "outputs": [],
   "source": [
    "X_test_itw = np.concatenate([x[0] for x in feat_dates], axis=0)\n",
    "y_test_itw = np.concatenate([x[1] for x in feat_dates], axis=0)"
   ]
  },
  {
   "cell_type": "code",
   "execution_count": 28,
   "metadata": {},
   "outputs": [],
   "source": [
    "itw_test_dataloader = EmbeddingDataLoader(X_test_itw, y_test_itw)"
   ]
  },
  {
   "cell_type": "code",
   "execution_count": 29,
   "metadata": {},
   "outputs": [
    {
     "name": "stdout",
     "output_type": "stream",
     "text": [
      "LOAD PRETRAINED MODEL\n"
     ]
    }
   ],
   "source": [
    "itw_user_model_saved_path = os.path.abspath(f'{model_path}/itw_deep_fusion.pth')\n",
    "itw_df_clf = BranchNeuralNetworkTrainer('./logs.txt',\n",
    "    itw_user_model_saved_path,\n",
    "    config_dict,\n",
    "    target_metrics=['balanced_accuracy', 'f1'],\n",
    "    pretrained_model_path = user_model_saved_path\n",
    ")\n",
    "itw_et_clf = joblib.load(os.path.join(model_path, 'lab_et_clf.pkl'))['model']\n",
    "itw_lr_clf = joblib.load(os.path.join(model_path, 'lab_lr_clf.pkl'))['model']\n",
    "std_scaler = joblib.load(os.path.join(model_path, 'lab_lr_clf.pkl'))['scaler']"
   ]
  },
  {
   "cell_type": "code",
   "execution_count": 30,
   "metadata": {},
   "outputs": [
    {
     "name": "stdout",
     "output_type": "stream",
     "text": [
      "--- Deep Fusion ---\n",
      "{'accuracy': 0.6744763762947326, 'balanced_accuracy': 0.6471355738561426, 'precision': 0.2046133094888077, 'recall': 0.6113752660417515, 'f1': 0.30661095087775075}\n",
      "--- Extra Trees ---\n",
      "{'accuracy': 0.5282882076050046, 'balanced_accuracy': 0.5961920156670315, 'precision': 0.15650023795236814, 'recall': 0.6850065661368473, 'f1': 0.2547898367034133}\n",
      "--- Logistic Regression ---\n",
      "{'accuracy': 0.6167271719255599, 'balanced_accuracy': 0.5744603678724267, 'precision': 0.15760750027493675, 'recall': 0.5191776479644976, 'f1': 0.24180876754510847}\n"
     ]
    }
   ],
   "source": [
    "# Lab-based Deep Fusion model applied to ITW data\n",
    "print(\"--- Deep Fusion ---\")\n",
    "y_pred_itw = itw_df_clf.predict(itw_test_dataloader)\n",
    "print(Evaluator().evaluate(y_test_itw, y_pred_itw))\n",
    "print(\"--- Extra Trees ---\")\n",
    "y_pred_itw = itw_et_clf.predict(X_test_itw)\n",
    "print(Evaluator().evaluate(y_test_itw, y_pred_itw))\n",
    "print(\"--- Logistic Regression ---\")\n",
    "y_pred_itw = itw_lr_clf.predict(std_scaler.transform(X_test_itw))\n",
    "print(Evaluator().evaluate(y_test_itw, y_pred_itw))"
   ]
  },
  {
   "cell_type": "markdown",
   "metadata": {},
   "source": [
    "## 2. Fine-tune the lab-based model to adapt to the in-the-wild data"
   ]
  },
  {
   "cell_type": "code",
   "execution_count": 31,
   "metadata": {},
   "outputs": [],
   "source": [
    "# Use the first 3 days for training\n",
    "X_train = np.concatenate([x[0] for x in feat_dates[:3]])\n",
    "y_train = np.concatenate([x[1] for x in feat_dates[:3]]).astype(int)\n",
    "# Use the last 3 days for testing\n",
    "X_test = np.concatenate([x[0] for x in feat_dates[3:]])\n",
    "y_test = np.concatenate([x[1] for x in feat_dates[3:]]).astype(int)"
   ]
  },
  {
   "cell_type": "markdown",
   "metadata": {},
   "source": [
    "### Fine-tune Deep-Fusion Model"
   ]
  },
  {
   "cell_type": "code",
   "execution_count": 32,
   "metadata": {},
   "outputs": [],
   "source": [
    "itw_train_dataloader = EmbeddingDataLoader(X_train, y_train)\n",
    "itw_test_dataloader = EmbeddingDataLoader(X_test, y_test)"
   ]
  },
  {
   "cell_type": "code",
   "execution_count": 33,
   "metadata": {},
   "outputs": [
    {
     "name": "stdout",
     "output_type": "stream",
     "text": [
      "----> Epoch: 0, Loss: 2.6203766441345215, Evaluation: {'balanced_accuracy': 0.6469677815634836, 'f1': 0.6623414865827595}\n",
      "----> Epoch: 10, Loss: 2.6200260496139527, Evaluation: {'balanced_accuracy': 0.6467170978585115, 'f1': 0.6641038234849629}\n",
      "----> Epoch: 20, Loss: 2.622978911399841, Evaluation: {'balanced_accuracy': 0.6460528131213199, 'f1': 0.6639571506704638}\n",
      "----> Epoch: 30, Loss: 2.6200963163375857, Evaluation: {'balanced_accuracy': 0.6473954259334265, 'f1': 0.6620480953151318}\n",
      "----> Epoch: 40, Loss: 2.6183602905273435, Evaluation: {'balanced_accuracy': 0.6479205545113517, 'f1': 0.6632736388324438}\n",
      "----> Epoch: 50, Loss: 2.6200092315673826, Evaluation: {'balanced_accuracy': 0.6483421636465195, 'f1': 0.6634163031391669}\n",
      "----> Epoch: 60, Loss: 2.618656029701233, Evaluation: {'balanced_accuracy': 0.6471079464091272, 'f1': 0.6631076890983397}\n",
      "----> Epoch: 70, Loss: 2.6159680128097533, Evaluation: {'balanced_accuracy': 0.6506583066618485, 'f1': 0.6645824198867644}\n",
      "----> Epoch: 80, Loss: 2.622107524871826, Evaluation: {'balanced_accuracy': 0.6472067524938016, 'f1': 0.662844341503237}\n",
      "----> Epoch: 90, Loss: 2.6188461923599244, Evaluation: {'balanced_accuracy': 0.646810227953635, 'f1': 0.6621955390052058}\n",
      "----> Epoch: 100, Loss: 2.6194788455963134, Evaluation: {'balanced_accuracy': 0.6471052684339126, 'f1': 0.6613132150239572}\n",
      "----> Epoch: 110, Loss: 2.616600251197815, Evaluation: {'balanced_accuracy': 0.6476677004784097, 'f1': 0.6617476024328395}\n",
      "----> Epoch: 120, Loss: 2.6211607122421263, Evaluation: {'balanced_accuracy': 0.6457067707538283, 'f1': 0.660145907541096}\n",
      "BREAK at epoch  121\n",
      "TRAINING {'balanced_accuracy': 0.6491379396162447, 'f1': 0.3433409001689737}\n",
      "VALIDATING  {'balanced_accuracy': 0.6183724672509305, 'f1': 0.237748128864302}\n"
     ]
    },
    {
     "data": {
      "text/plain": [
       "{'balanced_accuracy': 0.6183724672509305, 'f1': 0.237748128864302}"
      ]
     },
     "execution_count": 33,
     "metadata": {},
     "output_type": "execute_result"
    }
   ],
   "source": [
    "itw_df_clf.train(itw_train_dataloader, itw_test_dataloader, num_epochs=1000)"
   ]
  },
  {
   "cell_type": "code",
   "execution_count": 34,
   "metadata": {},
   "outputs": [
    {
     "name": "stdout",
     "output_type": "stream",
     "text": [
      "{'accuracy': 0.7303650155974813, 'balanced_accuracy': 0.6183724672509305, 'precision': 0.15770841428139706, 'recall': 0.48275406369763446, 'f1': 0.237748128864302}\n"
     ]
    }
   ],
   "source": [
    "y_pred_itw = itw_df_clf.predict(itw_test_dataloader)\n",
    "print(Evaluator().evaluate(y_test, y_pred_itw))"
   ]
  },
  {
   "cell_type": "markdown",
   "metadata": {},
   "source": [
    "## 3. Re-train ML Model"
   ]
  },
  {
   "cell_type": "markdown",
   "metadata": {},
   "source": [
    "### Re-train ExtraTreesClassifier Model"
   ]
  },
  {
   "cell_type": "code",
   "execution_count": 35,
   "metadata": {},
   "outputs": [
    {
     "data": {
      "text/html": [
       "<style>#sk-container-id-3 {color: black;background-color: white;}#sk-container-id-3 pre{padding: 0;}#sk-container-id-3 div.sk-toggleable {background-color: white;}#sk-container-id-3 label.sk-toggleable__label {cursor: pointer;display: block;width: 100%;margin-bottom: 0;padding: 0.3em;box-sizing: border-box;text-align: center;}#sk-container-id-3 label.sk-toggleable__label-arrow:before {content: \"▸\";float: left;margin-right: 0.25em;color: #696969;}#sk-container-id-3 label.sk-toggleable__label-arrow:hover:before {color: black;}#sk-container-id-3 div.sk-estimator:hover label.sk-toggleable__label-arrow:before {color: black;}#sk-container-id-3 div.sk-toggleable__content {max-height: 0;max-width: 0;overflow: hidden;text-align: left;background-color: #f0f8ff;}#sk-container-id-3 div.sk-toggleable__content pre {margin: 0.2em;color: black;border-radius: 0.25em;background-color: #f0f8ff;}#sk-container-id-3 input.sk-toggleable__control:checked~div.sk-toggleable__content {max-height: 200px;max-width: 100%;overflow: auto;}#sk-container-id-3 input.sk-toggleable__control:checked~label.sk-toggleable__label-arrow:before {content: \"▾\";}#sk-container-id-3 div.sk-estimator input.sk-toggleable__control:checked~label.sk-toggleable__label {background-color: #d4ebff;}#sk-container-id-3 div.sk-label input.sk-toggleable__control:checked~label.sk-toggleable__label {background-color: #d4ebff;}#sk-container-id-3 input.sk-hidden--visually {border: 0;clip: rect(1px 1px 1px 1px);clip: rect(1px, 1px, 1px, 1px);height: 1px;margin: -1px;overflow: hidden;padding: 0;position: absolute;width: 1px;}#sk-container-id-3 div.sk-estimator {font-family: monospace;background-color: #f0f8ff;border: 1px dotted black;border-radius: 0.25em;box-sizing: border-box;margin-bottom: 0.5em;}#sk-container-id-3 div.sk-estimator:hover {background-color: #d4ebff;}#sk-container-id-3 div.sk-parallel-item::after {content: \"\";width: 100%;border-bottom: 1px solid gray;flex-grow: 1;}#sk-container-id-3 div.sk-label:hover label.sk-toggleable__label {background-color: #d4ebff;}#sk-container-id-3 div.sk-serial::before {content: \"\";position: absolute;border-left: 1px solid gray;box-sizing: border-box;top: 0;bottom: 0;left: 50%;z-index: 0;}#sk-container-id-3 div.sk-serial {display: flex;flex-direction: column;align-items: center;background-color: white;padding-right: 0.2em;padding-left: 0.2em;position: relative;}#sk-container-id-3 div.sk-item {position: relative;z-index: 1;}#sk-container-id-3 div.sk-parallel {display: flex;align-items: stretch;justify-content: center;background-color: white;position: relative;}#sk-container-id-3 div.sk-item::before, #sk-container-id-3 div.sk-parallel-item::before {content: \"\";position: absolute;border-left: 1px solid gray;box-sizing: border-box;top: 0;bottom: 0;left: 50%;z-index: -1;}#sk-container-id-3 div.sk-parallel-item {display: flex;flex-direction: column;z-index: 1;position: relative;background-color: white;}#sk-container-id-3 div.sk-parallel-item:first-child::after {align-self: flex-end;width: 50%;}#sk-container-id-3 div.sk-parallel-item:last-child::after {align-self: flex-start;width: 50%;}#sk-container-id-3 div.sk-parallel-item:only-child::after {width: 0;}#sk-container-id-3 div.sk-dashed-wrapped {border: 1px dashed gray;margin: 0 0.4em 0.5em 0.4em;box-sizing: border-box;padding-bottom: 0.4em;background-color: white;}#sk-container-id-3 div.sk-label label {font-family: monospace;font-weight: bold;display: inline-block;line-height: 1.2em;}#sk-container-id-3 div.sk-label-container {text-align: center;}#sk-container-id-3 div.sk-container {/* jupyter's `normalize.less` sets `[hidden] { display: none; }` but bootstrap.min.css set `[hidden] { display: none !important; }` so we also need the `!important` here to be able to override the default hidden behavior on the sphinx rendered scikit-learn.org. See: https://github.com/scikit-learn/scikit-learn/issues/21755 */display: inline-block !important;position: relative;}#sk-container-id-3 div.sk-text-repr-fallback {display: none;}</style><div id=\"sk-container-id-3\" class=\"sk-top-container\"><div class=\"sk-text-repr-fallback\"><pre>ExtraTreesClassifier(bootstrap=True, class_weight=&#x27;balanced&#x27;, max_depth=8,\n",
       "                     min_samples_leaf=0.005, min_samples_split=0.005,\n",
       "                     n_estimators=500, n_jobs=-1, oob_score=True,\n",
       "                     random_state=0)</pre><b>In a Jupyter environment, please rerun this cell to show the HTML representation or trust the notebook. <br />On GitHub, the HTML representation is unable to render, please try loading this page with nbviewer.org.</b></div><div class=\"sk-container\" hidden><div class=\"sk-item\"><div class=\"sk-estimator sk-toggleable\"><input class=\"sk-toggleable__control sk-hidden--visually\" id=\"sk-estimator-id-3\" type=\"checkbox\" checked><label for=\"sk-estimator-id-3\" class=\"sk-toggleable__label sk-toggleable__label-arrow\">ExtraTreesClassifier</label><div class=\"sk-toggleable__content\"><pre>ExtraTreesClassifier(bootstrap=True, class_weight=&#x27;balanced&#x27;, max_depth=8,\n",
       "                     min_samples_leaf=0.005, min_samples_split=0.005,\n",
       "                     n_estimators=500, n_jobs=-1, oob_score=True,\n",
       "                     random_state=0)</pre></div></div></div></div></div>"
      ],
      "text/plain": [
       "ExtraTreesClassifier(bootstrap=True, class_weight='balanced', max_depth=8,\n",
       "                     min_samples_leaf=0.005, min_samples_split=0.005,\n",
       "                     n_estimators=500, n_jobs=-1, oob_score=True,\n",
       "                     random_state=0)"
      ]
     },
     "execution_count": 35,
     "metadata": {},
     "output_type": "execute_result"
    }
   ],
   "source": [
    "itw_et_clf = ExtraTreesClassifier(\n",
    "    n_estimators = 500,\n",
    "    random_state = 0, \n",
    "    n_jobs = -1, \n",
    "    max_features = 'sqrt', \n",
    "    max_depth = 8, \n",
    "    min_samples_split = 0.005, \n",
    "    min_samples_leaf = 0.005,\n",
    "    oob_score = True, \n",
    "    bootstrap = True, \n",
    "    class_weight = 'balanced'\n",
    ")\n",
    "itw_et_clf.fit(X_train, y_train)"
   ]
  },
  {
   "cell_type": "code",
   "execution_count": 36,
   "metadata": {},
   "outputs": [
    {
     "name": "stdout",
     "output_type": "stream",
     "text": [
      "{'accuracy': 0.6913080013352826, 'balanced_accuracy': 0.6700814213760298, 'precision': 0.1681263361147507, 'recall': 0.6443768996960486, 'f1': 0.2666739588175777}\n"
     ]
    }
   ],
   "source": [
    "y_pred_itw = itw_et_clf.predict(X_test)\n",
    "print(Evaluator().evaluate(y_test, y_pred_itw))"
   ]
  },
  {
   "cell_type": "markdown",
   "metadata": {},
   "source": [
    "### Re-train Logistic Regression Model"
   ]
  },
  {
   "cell_type": "code",
   "execution_count": 37,
   "metadata": {},
   "outputs": [],
   "source": [
    "scaler = StandardScaler()"
   ]
  },
  {
   "cell_type": "code",
   "execution_count": 38,
   "metadata": {},
   "outputs": [
    {
     "ename": "KeyboardInterrupt",
     "evalue": "",
     "output_type": "error",
     "traceback": [
      "\u001b[0;31m---------------------------------------------------------------------------\u001b[0m",
      "\u001b[0;31mKeyboardInterrupt\u001b[0m                         Traceback (most recent call last)",
      "\u001b[1;32m/home/nvtu/PhD_Work/ExperimentProtocol2/stress_detection/experiment_scripts/final_exp.ipynb Cell 49\u001b[0m in \u001b[0;36m<cell line: 8>\u001b[0;34m()\u001b[0m\n\u001b[1;32m      <a href='vscode-notebook-cell://ssh-remote%2B136.206.48.13/home/nvtu/PhD_Work/ExperimentProtocol2/stress_detection/experiment_scripts/final_exp.ipynb#X66sdnNjb2RlLXJlbW90ZQ%3D%3D?line=0'>1</a>\u001b[0m itw_lr_clf \u001b[39m=\u001b[39m LogisticRegression(\n\u001b[1;32m      <a href='vscode-notebook-cell://ssh-remote%2B136.206.48.13/home/nvtu/PhD_Work/ExperimentProtocol2/stress_detection/experiment_scripts/final_exp.ipynb#X66sdnNjb2RlLXJlbW90ZQ%3D%3D?line=1'>2</a>\u001b[0m     random_state \u001b[39m=\u001b[39m \u001b[39m0\u001b[39m,\n\u001b[1;32m      <a href='vscode-notebook-cell://ssh-remote%2B136.206.48.13/home/nvtu/PhD_Work/ExperimentProtocol2/stress_detection/experiment_scripts/final_exp.ipynb#X66sdnNjb2RlLXJlbW90ZQ%3D%3D?line=2'>3</a>\u001b[0m     class_weight \u001b[39m=\u001b[39m \u001b[39m'\u001b[39m\u001b[39mbalanced\u001b[39m\u001b[39m'\u001b[39m,\n\u001b[0;32m   (...)\u001b[0m\n\u001b[1;32m      <a href='vscode-notebook-cell://ssh-remote%2B136.206.48.13/home/nvtu/PhD_Work/ExperimentProtocol2/stress_detection/experiment_scripts/final_exp.ipynb#X66sdnNjb2RlLXJlbW90ZQ%3D%3D?line=5'>6</a>\u001b[0m     max_iter \u001b[39m=\u001b[39m \u001b[39m10000\u001b[39m,\n\u001b[1;32m      <a href='vscode-notebook-cell://ssh-remote%2B136.206.48.13/home/nvtu/PhD_Work/ExperimentProtocol2/stress_detection/experiment_scripts/final_exp.ipynb#X66sdnNjb2RlLXJlbW90ZQ%3D%3D?line=6'>7</a>\u001b[0m )\n\u001b[0;32m----> <a href='vscode-notebook-cell://ssh-remote%2B136.206.48.13/home/nvtu/PhD_Work/ExperimentProtocol2/stress_detection/experiment_scripts/final_exp.ipynb#X66sdnNjb2RlLXJlbW90ZQ%3D%3D?line=7'>8</a>\u001b[0m itw_lr_clf\u001b[39m.\u001b[39;49mfit(scaler\u001b[39m.\u001b[39;49mfit_transform(X_train), y_train)\n",
      "File \u001b[0;32m/home/nmduy/anaconda3/envs/stress/lib/python3.9/site-packages/sklearn/linear_model/_logistic.py:1233\u001b[0m, in \u001b[0;36mLogisticRegression.fit\u001b[0;34m(self, X, y, sample_weight)\u001b[0m\n\u001b[1;32m   1230\u001b[0m \u001b[39melse\u001b[39;00m:\n\u001b[1;32m   1231\u001b[0m     n_threads \u001b[39m=\u001b[39m \u001b[39m1\u001b[39m\n\u001b[0;32m-> 1233\u001b[0m fold_coefs_ \u001b[39m=\u001b[39m Parallel(n_jobs\u001b[39m=\u001b[39;49m\u001b[39mself\u001b[39;49m\u001b[39m.\u001b[39;49mn_jobs, verbose\u001b[39m=\u001b[39;49m\u001b[39mself\u001b[39;49m\u001b[39m.\u001b[39;49mverbose, prefer\u001b[39m=\u001b[39;49mprefer)(\n\u001b[1;32m   1234\u001b[0m     path_func(\n\u001b[1;32m   1235\u001b[0m         X,\n\u001b[1;32m   1236\u001b[0m         y,\n\u001b[1;32m   1237\u001b[0m         pos_class\u001b[39m=\u001b[39;49mclass_,\n\u001b[1;32m   1238\u001b[0m         Cs\u001b[39m=\u001b[39;49m[C_],\n\u001b[1;32m   1239\u001b[0m         l1_ratio\u001b[39m=\u001b[39;49m\u001b[39mself\u001b[39;49m\u001b[39m.\u001b[39;49ml1_ratio,\n\u001b[1;32m   1240\u001b[0m         fit_intercept\u001b[39m=\u001b[39;49m\u001b[39mself\u001b[39;49m\u001b[39m.\u001b[39;49mfit_intercept,\n\u001b[1;32m   1241\u001b[0m         tol\u001b[39m=\u001b[39;49m\u001b[39mself\u001b[39;49m\u001b[39m.\u001b[39;49mtol,\n\u001b[1;32m   1242\u001b[0m         verbose\u001b[39m=\u001b[39;49m\u001b[39mself\u001b[39;49m\u001b[39m.\u001b[39;49mverbose,\n\u001b[1;32m   1243\u001b[0m         solver\u001b[39m=\u001b[39;49msolver,\n\u001b[1;32m   1244\u001b[0m         multi_class\u001b[39m=\u001b[39;49mmulti_class,\n\u001b[1;32m   1245\u001b[0m         max_iter\u001b[39m=\u001b[39;49m\u001b[39mself\u001b[39;49m\u001b[39m.\u001b[39;49mmax_iter,\n\u001b[1;32m   1246\u001b[0m         class_weight\u001b[39m=\u001b[39;49m\u001b[39mself\u001b[39;49m\u001b[39m.\u001b[39;49mclass_weight,\n\u001b[1;32m   1247\u001b[0m         check_input\u001b[39m=\u001b[39;49m\u001b[39mFalse\u001b[39;49;00m,\n\u001b[1;32m   1248\u001b[0m         random_state\u001b[39m=\u001b[39;49m\u001b[39mself\u001b[39;49m\u001b[39m.\u001b[39;49mrandom_state,\n\u001b[1;32m   1249\u001b[0m         coef\u001b[39m=\u001b[39;49mwarm_start_coef_,\n\u001b[1;32m   1250\u001b[0m         penalty\u001b[39m=\u001b[39;49mpenalty,\n\u001b[1;32m   1251\u001b[0m         max_squared_sum\u001b[39m=\u001b[39;49mmax_squared_sum,\n\u001b[1;32m   1252\u001b[0m         sample_weight\u001b[39m=\u001b[39;49msample_weight,\n\u001b[1;32m   1253\u001b[0m         n_threads\u001b[39m=\u001b[39;49mn_threads,\n\u001b[1;32m   1254\u001b[0m     )\n\u001b[1;32m   1255\u001b[0m     \u001b[39mfor\u001b[39;49;00m class_, warm_start_coef_ \u001b[39min\u001b[39;49;00m \u001b[39mzip\u001b[39;49m(classes_, warm_start_coef)\n\u001b[1;32m   1256\u001b[0m )\n\u001b[1;32m   1258\u001b[0m fold_coefs_, _, n_iter_ \u001b[39m=\u001b[39m \u001b[39mzip\u001b[39m(\u001b[39m*\u001b[39mfold_coefs_)\n\u001b[1;32m   1259\u001b[0m \u001b[39mself\u001b[39m\u001b[39m.\u001b[39mn_iter_ \u001b[39m=\u001b[39m np\u001b[39m.\u001b[39masarray(n_iter_, dtype\u001b[39m=\u001b[39mnp\u001b[39m.\u001b[39mint32)[:, \u001b[39m0\u001b[39m]\n",
      "File \u001b[0;32m/home/nmduy/anaconda3/envs/stress/lib/python3.9/site-packages/joblib/parallel.py:1056\u001b[0m, in \u001b[0;36mParallel.__call__\u001b[0;34m(self, iterable)\u001b[0m\n\u001b[1;32m   1053\u001b[0m     \u001b[39mself\u001b[39m\u001b[39m.\u001b[39m_iterating \u001b[39m=\u001b[39m \u001b[39mFalse\u001b[39;00m\n\u001b[1;32m   1055\u001b[0m \u001b[39mwith\u001b[39;00m \u001b[39mself\u001b[39m\u001b[39m.\u001b[39m_backend\u001b[39m.\u001b[39mretrieval_context():\n\u001b[0;32m-> 1056\u001b[0m     \u001b[39mself\u001b[39;49m\u001b[39m.\u001b[39;49mretrieve()\n\u001b[1;32m   1057\u001b[0m \u001b[39m# Make sure that we get a last message telling us we are done\u001b[39;00m\n\u001b[1;32m   1058\u001b[0m elapsed_time \u001b[39m=\u001b[39m time\u001b[39m.\u001b[39mtime() \u001b[39m-\u001b[39m \u001b[39mself\u001b[39m\u001b[39m.\u001b[39m_start_time\n",
      "File \u001b[0;32m/home/nmduy/anaconda3/envs/stress/lib/python3.9/site-packages/joblib/parallel.py:935\u001b[0m, in \u001b[0;36mParallel.retrieve\u001b[0;34m(self)\u001b[0m\n\u001b[1;32m    933\u001b[0m \u001b[39mtry\u001b[39;00m:\n\u001b[1;32m    934\u001b[0m     \u001b[39mif\u001b[39;00m \u001b[39mgetattr\u001b[39m(\u001b[39mself\u001b[39m\u001b[39m.\u001b[39m_backend, \u001b[39m'\u001b[39m\u001b[39msupports_timeout\u001b[39m\u001b[39m'\u001b[39m, \u001b[39mFalse\u001b[39;00m):\n\u001b[0;32m--> 935\u001b[0m         \u001b[39mself\u001b[39m\u001b[39m.\u001b[39m_output\u001b[39m.\u001b[39mextend(job\u001b[39m.\u001b[39;49mget(timeout\u001b[39m=\u001b[39;49m\u001b[39mself\u001b[39;49m\u001b[39m.\u001b[39;49mtimeout))\n\u001b[1;32m    936\u001b[0m     \u001b[39melse\u001b[39;00m:\n\u001b[1;32m    937\u001b[0m         \u001b[39mself\u001b[39m\u001b[39m.\u001b[39m_output\u001b[39m.\u001b[39mextend(job\u001b[39m.\u001b[39mget())\n",
      "File \u001b[0;32m/home/nmduy/anaconda3/envs/stress/lib/python3.9/multiprocessing/pool.py:765\u001b[0m, in \u001b[0;36mApplyResult.get\u001b[0;34m(self, timeout)\u001b[0m\n\u001b[1;32m    764\u001b[0m \u001b[39mdef\u001b[39;00m \u001b[39mget\u001b[39m(\u001b[39mself\u001b[39m, timeout\u001b[39m=\u001b[39m\u001b[39mNone\u001b[39;00m):\n\u001b[0;32m--> 765\u001b[0m     \u001b[39mself\u001b[39;49m\u001b[39m.\u001b[39;49mwait(timeout)\n\u001b[1;32m    766\u001b[0m     \u001b[39mif\u001b[39;00m \u001b[39mnot\u001b[39;00m \u001b[39mself\u001b[39m\u001b[39m.\u001b[39mready():\n\u001b[1;32m    767\u001b[0m         \u001b[39mraise\u001b[39;00m \u001b[39mTimeoutError\u001b[39;00m\n",
      "File \u001b[0;32m/home/nmduy/anaconda3/envs/stress/lib/python3.9/multiprocessing/pool.py:762\u001b[0m, in \u001b[0;36mApplyResult.wait\u001b[0;34m(self, timeout)\u001b[0m\n\u001b[1;32m    761\u001b[0m \u001b[39mdef\u001b[39;00m \u001b[39mwait\u001b[39m(\u001b[39mself\u001b[39m, timeout\u001b[39m=\u001b[39m\u001b[39mNone\u001b[39;00m):\n\u001b[0;32m--> 762\u001b[0m     \u001b[39mself\u001b[39;49m\u001b[39m.\u001b[39;49m_event\u001b[39m.\u001b[39;49mwait(timeout)\n",
      "File \u001b[0;32m/home/nmduy/anaconda3/envs/stress/lib/python3.9/threading.py:574\u001b[0m, in \u001b[0;36mEvent.wait\u001b[0;34m(self, timeout)\u001b[0m\n\u001b[1;32m    572\u001b[0m signaled \u001b[39m=\u001b[39m \u001b[39mself\u001b[39m\u001b[39m.\u001b[39m_flag\n\u001b[1;32m    573\u001b[0m \u001b[39mif\u001b[39;00m \u001b[39mnot\u001b[39;00m signaled:\n\u001b[0;32m--> 574\u001b[0m     signaled \u001b[39m=\u001b[39m \u001b[39mself\u001b[39;49m\u001b[39m.\u001b[39;49m_cond\u001b[39m.\u001b[39;49mwait(timeout)\n\u001b[1;32m    575\u001b[0m \u001b[39mreturn\u001b[39;00m signaled\n",
      "File \u001b[0;32m/home/nmduy/anaconda3/envs/stress/lib/python3.9/threading.py:312\u001b[0m, in \u001b[0;36mCondition.wait\u001b[0;34m(self, timeout)\u001b[0m\n\u001b[1;32m    310\u001b[0m \u001b[39mtry\u001b[39;00m:    \u001b[39m# restore state no matter what (e.g., KeyboardInterrupt)\u001b[39;00m\n\u001b[1;32m    311\u001b[0m     \u001b[39mif\u001b[39;00m timeout \u001b[39mis\u001b[39;00m \u001b[39mNone\u001b[39;00m:\n\u001b[0;32m--> 312\u001b[0m         waiter\u001b[39m.\u001b[39;49macquire()\n\u001b[1;32m    313\u001b[0m         gotit \u001b[39m=\u001b[39m \u001b[39mTrue\u001b[39;00m\n\u001b[1;32m    314\u001b[0m     \u001b[39melse\u001b[39;00m:\n",
      "\u001b[0;31mKeyboardInterrupt\u001b[0m: "
     ]
    }
   ],
   "source": [
    "itw_lr_clf = LogisticRegression(\n",
    "    random_state = 0,\n",
    "    class_weight = 'balanced',\n",
    "    n_jobs = -1,\n",
    "    solver = 'saga',\n",
    "    max_iter = 10000,\n",
    ")\n",
    "itw_lr_clf.fit(scaler.fit_transform(X_train), y_train)"
   ]
  },
  {
   "cell_type": "code",
   "execution_count": null,
   "metadata": {},
   "outputs": [],
   "source": [
    "y_pred_itw = itw_lr_clf.predict(scaler.transform(X_test))\n",
    "print(Evaluator().evaluate(y_test, y_pred_itw))"
   ]
  },
  {
   "cell_type": "code",
   "execution_count": null,
   "metadata": {},
   "outputs": [],
   "source": []
  }
 ],
 "metadata": {
  "kernelspec": {
   "display_name": "Python 3.9.12 ('stress')",
   "language": "python",
   "name": "python3"
  },
  "language_info": {
   "codemirror_mode": {
    "name": "ipython",
    "version": 3
   },
   "file_extension": ".py",
   "mimetype": "text/x-python",
   "name": "python",
   "nbconvert_exporter": "python",
   "pygments_lexer": "ipython3",
   "version": "3.9.12"
  },
  "orig_nbformat": 4,
  "vscode": {
   "interpreter": {
    "hash": "37ebc3d14ab14189c4eae9bca0430f788ed6f529827f083fec73cc217c56eda2"
   }
  }
 },
 "nbformat": 4,
 "nbformat_minor": 2
}
