{
 "cells": [
  {
   "cell_type": "code",
   "execution_count": 1,
   "metadata": {},
   "outputs": [
    {
     "name": "stderr",
     "output_type": "stream",
     "text": [
      "/home/nmduy/anaconda3/envs/stress/lib/python3.9/site-packages/tqdm/auto.py:22: TqdmWarning: IProgress not found. Please update jupyter and ipywidgets. See https://ipywidgets.readthedocs.io/en/stable/user_install.html\n",
      "  from .autonotebook import tqdm as notebook_tqdm\n"
     ]
    }
   ],
   "source": [
    "import __init__\n",
    "import numpy as np\n",
    "import os\n",
    "import pandas as pd\n",
    "from datapath_manager import ITWDataPathManager, DataPathManager\n",
    "from date_time_utils import get_date_time_from_float, convert_utc_to_local_time\n",
    "from trainers import MachineLearningModelTrainer, BranchNeuralNetworkTrainer\n",
    "import matplotlib.pyplot as plt\n",
    "from dataloader import EmbeddingDataLoader\n",
    "from sklearn.metrics import confusion_matrix, ConfusionMatrixDisplay\n",
    "import yaml, torch\n",
    "from combine_features_itw import ITWFeatureCombiner"
   ]
  },
  {
   "cell_type": "code",
   "execution_count": 2,
   "metadata": {},
   "outputs": [],
   "source": [
    "dataset_name = 'DCU_EXP2_ITW'\n",
    "user_id = 'nvtu'\n",
    "# user_id = 'nmduy'\n",
    "# date = '2022-09-02'\n",
    "date = '2022-09-05'\n",
    "# date = '2022-09-06'\n",
    "\n",
    "trained_dataset_name = 'DCU_NVT_EXP2'\n",
    "dl_model_name = 'branch_neural_network'\n",
    "ml_model_name = 'knn'\n",
    "model_type = 'dependent'\n",
    "window_size = 60\n",
    "window_shift = 0.25"
   ]
  },
  {
   "cell_type": "code",
   "execution_count": null,
   "metadata": {},
   "outputs": [],
   "source": [
    "dataset_path = ITWDataPathManager(dataset_name).get_dataset_path()\n",
    "user_date_path = os.path.join(dataset_path, 'data', user_id, date, 'Lifelog')\n",
    "stress_path = os.path.join(user_date_path, 'Stress')\n",
    "relaxed_path = os.path.join(user_date_path, 'Relaxed')\n",
    "low_stress_path = os.path.join(user_date_path, 'LowStress')\n",
    "\n",
    "user_date_feature_path = os.path.join(dataset_path, 'features', user_id, date)\n",
    "feature_path = os.path.join(user_date_feature_path, 'bvp_eda_temp.npy')\n",
    "metadata_path = os.path.join(user_date_feature_path, 'metadata.csv')"
   ]
  },
  {
   "cell_type": "code",
   "execution_count": null,
   "metadata": {},
   "outputs": [],
   "source": [
    "# Load features and metadata\n",
    "features = np.load(feature_path)\n",
    "metadata = pd.read_csv(metadata_path)"
   ]
  },
  {
   "cell_type": "code",
   "execution_count": null,
   "metadata": {},
   "outputs": [],
   "source": [
    "def show_images(image_paths, rows, cols):\n",
    "    fig, axes = plt.subplots(nrows = rows, ncols = cols, figsize = (20, 10))\n",
    "    \n",
    "    for i in range(rows):\n",
    "        for j in range(cols):\n",
    "            index = i * rows + j\n",
    "            img = plt.imread(image_paths[index])\n",
    "            # frame_index = os.path.basename(image_paths[index])\n",
    "            # frame_index = '-'.join(image_paths[index].split('/')[-2:])\n",
    "            frame_index = image_paths[index].split('/')[-2]\n",
    "            axes[i, j].imshow(img)\n",
    "            axes[i, j].set_title(frame_index)"
   ]
  },
  {
   "cell_type": "code",
   "execution_count": null,
   "metadata": {},
   "outputs": [],
   "source": [
    "def get_moments_indices(moments, metadata):\n",
    "    moments = [convert_utc_to_local_time(moment).timestamp() for moment in moments]\n",
    "    indices = metadata.loc[metadata['date_time'].isin(moments)].index.tolist()\n",
    "    return indices"
   ]
  },
  {
   "cell_type": "code",
   "execution_count": null,
   "metadata": {},
   "outputs": [],
   "source": [
    "def get_features_from_moments(moments, features, metadata):\n",
    "    indices = get_moments_indices(moments, metadata)\n",
    "    return features[indices, :]"
   ]
  },
  {
   "cell_type": "code",
   "execution_count": null,
   "metadata": {},
   "outputs": [],
   "source": [
    "stress_images = sorted([os.path.join(stress_path, image_name) for image_name in os.listdir(stress_path)])\n",
    "relaxed_images = sorted([os.path.join(relaxed_path, image_name) for image_name in os.listdir(relaxed_path)])\n",
    "# low_stress_images = sorted([os.path.join(relaxed_path, image_name) for image_name in os.listdir(low_stress_path)])\n",
    "# # Merge relaxed with low stress\n",
    "# relaxed_images.extend(low_stress_images)"
   ]
  },
  {
   "cell_type": "code",
   "execution_count": null,
   "metadata": {},
   "outputs": [],
   "source": [
    "# show_images(stress_images[:12], 3, 4)\n",
    "# X_test = features\n",
    "# y_test = [0 for _ in range(X_test.shape[0] - 1)]\n",
    "# y_test.append(1)\n",
    "# y_test = np.array(y_test).astype(np.int64)\n",
    "# test_dataloader = EmbeddingDataLoader(X_test, y_test)"
   ]
  },
  {
   "cell_type": "code",
   "execution_count": null,
   "metadata": {},
   "outputs": [],
   "source": [
    "stress_moments = [os.path.basename(os.path.splitext(image_name)[0]) for image_name in stress_images]\n",
    "relaxed_moments = [os.path.basename(os.path.splitext(image_name)[0]) for image_name in relaxed_images]\n",
    "\n",
    "stress_features = get_features_from_moments(stress_moments, features, metadata)\n",
    "relaxed_features = get_features_from_moments(relaxed_moments, features, metadata)\n",
    "X_test, y_test = np.concatenate((stress_features, relaxed_features), axis=0), np.concatenate((np.ones(len(stress_features)), np.zeros(len(relaxed_features))), axis=0)\n",
    "y_test = y_test.astype(int)\n",
    "test_dataloader = EmbeddingDataLoader(X_test, y_test)"
   ]
  },
  {
   "cell_type": "code",
   "execution_count": 14,
   "metadata": {},
   "outputs": [],
   "source": [
    "def get_pretrained_model(model_name):\n",
    "    ds_path_manager = DataPathManager(trained_dataset_name)\n",
    "    user_model_saved_path = ds_path_manager.get_saved_model_path(user_id, model_name, model_type, window_size, window_shift)\n",
    "    if model_name == 'branch_neural_network':\n",
    "        config_path = os.path.join(os.path.dirname(os.getcwd()), 'models', 'model_config', 'branchnn_sensor_combination.yaml')\n",
    "        config_dict = yaml.safe_load(open(config_path, 'r'))\n",
    "        model = BranchNeuralNetworkTrainer('.', user_model_saved_path, config_dict, target_metrics=['accuracy', 'balanced_accuracy', 'precision', 'recall'])\n",
    "    else:\n",
    "        model = MachineLearningModelTrainer(user_model_saved_path, model_name, eval_mode = True)\n",
    "    return model"
   ]
  },
  {
   "cell_type": "code",
   "execution_count": 15,
   "metadata": {},
   "outputs": [],
   "source": [
    "def evaluate(model_name, dataloader):\n",
    "    y_test = dataloader.dataset.ground_truth\n",
    "    model = get_pretrained_model(model_name)\n",
    "    print(model.predict_and_evaluate(dataloader))\n",
    "    # ConfusionMatrixDisplay.from_predictions(y_test, model.predict(dataloader), display_labels=['Relaxed', 'Stress'])"
   ]
  },
  {
   "cell_type": "code",
   "execution_count": null,
   "metadata": {},
   "outputs": [],
   "source": [
    "evaluate(dl_model_name, test_dataloader)"
   ]
  },
  {
   "cell_type": "code",
   "execution_count": null,
   "metadata": {},
   "outputs": [],
   "source": [
    "evaluate(ml_model_name, test_dataloader)"
   ]
  },
  {
   "cell_type": "code",
   "execution_count": null,
   "metadata": {},
   "outputs": [],
   "source": [
    "model = get_pretrained_model(ml_model_name)\n",
    "y_pred = model.predict(test_dataloader)"
   ]
  },
  {
   "cell_type": "code",
   "execution_count": null,
   "metadata": {},
   "outputs": [],
   "source": [
    "model = get_pretrained_model(dl_model_name)\n",
    "y_pred = model.predict(test_dataloader)"
   ]
  },
  {
   "cell_type": "code",
   "execution_count": null,
   "metadata": {},
   "outputs": [],
   "source": [
    "set(y_pred)"
   ]
  },
  {
   "cell_type": "code",
   "execution_count": null,
   "metadata": {},
   "outputs": [],
   "source": [
    "num_points = len(y_pred)\n",
    "images = np.array([*stress_images, *relaxed_images])\n",
    "diff_indices = [i for i in range(num_points) if y_pred[i] != y_test[i]]\n",
    "diff_images = images[diff_indices]\n",
    "diff_images[:5]"
   ]
  },
  {
   "cell_type": "code",
   "execution_count": null,
   "metadata": {},
   "outputs": [],
   "source": [
    "# show_images(diff_images[:100], 10, 10)"
   ]
  },
  {
   "cell_type": "code",
   "execution_count": null,
   "metadata": {},
   "outputs": [],
   "source": [
    "stress_indices = get_moments_indices(stress_moments, metadata)\n",
    "stress_times = metadata.loc[stress_indices, 'date_time'].tolist()\n",
    "stress_labels = np.ones(len(stress_indices))\n",
    "relaxed_indices = get_moments_indices(relaxed_moments, metadata)\n",
    "relaxed_times = metadata.loc[relaxed_indices, 'date_time'].tolist()\n",
    "relaxed_labels = np.zeros(len(relaxed_indices))"
   ]
  },
  {
   "cell_type": "code",
   "execution_count": null,
   "metadata": {},
   "outputs": [],
   "source": [
    "indices = np.array([*stress_times, *relaxed_times])\n",
    "labels = np.array([*stress_labels, *relaxed_labels])\n",
    "sorted_indices = np.argsort(indices)\n",
    "_indices = indices[sorted_indices]\n",
    "_labels = labels[sorted_indices]"
   ]
  },
  {
   "cell_type": "code",
   "execution_count": null,
   "metadata": {},
   "outputs": [],
   "source": [
    "fig = plt.figure()\n",
    "ax1 = fig.add_subplot(111)\n",
    "ax1.scatter(stress_times, stress_labels, s=10, c='r', marker=\"x\", label='Stress')\n",
    "ax1.scatter(relaxed_times, relaxed_labels, s=10, c='b', marker=\"o\", label='Relaxed')\n",
    "# plt.scatter(x = _indices, y = _labels, c = ['red', 'blue'])"
   ]
  },
  {
   "cell_type": "code",
   "execution_count": null,
   "metadata": {},
   "outputs": [],
   "source": [
    "plt.scatter(x = relaxed_indices, y = relaxed_labels, c = 'blue', label = 'Relaxed')"
   ]
  },
  {
   "cell_type": "markdown",
   "metadata": {},
   "source": [
    "# --------- SESSION TEST ---------------"
   ]
  },
  {
   "cell_type": "code",
   "execution_count": 27,
   "metadata": {},
   "outputs": [],
   "source": [
    "session_id = '20220906_204400'\n",
    "user_id = 'nmduy'\n",
    "date = '2022-09-06'\n",
    "model_name = 'logistic_regression'"
   ]
  },
  {
   "cell_type": "code",
   "execution_count": 28,
   "metadata": {},
   "outputs": [],
   "source": [
    "itw_feat_combiner = ITWFeatureCombiner(dataset_name)\n",
    "features = itw_feat_combiner.combine_session_features(user_id, date, session_id)"
   ]
  },
  {
   "cell_type": "code",
   "execution_count": 29,
   "metadata": {},
   "outputs": [],
   "source": [
    "X_test = features\n",
    "y_test = np.zeros(X_test.shape[0])\n",
    "test_dataloader = EmbeddingDataLoader(X_test, y_test)"
   ]
  },
  {
   "cell_type": "code",
   "execution_count": 30,
   "metadata": {},
   "outputs": [
    {
     "name": "stdout",
     "output_type": "stream",
     "text": [
      "LOAD PRETRAINED MODEL\n",
      "{'accuracy': 1.0, 'balanced_accuracy': 1.0, 'precision': 0.0, 'recall': 0.0, 'f1_score': None}\n"
     ]
    },
    {
     "name": "stderr",
     "output_type": "stream",
     "text": [
      "/home/nmduy/anaconda3/envs/stress/lib/python3.9/site-packages/sklearn/metrics/_classification.py:1334: UndefinedMetricWarning: Precision is ill-defined and being set to 0.0 due to no predicted samples. Use `zero_division` parameter to control this behavior.\n",
      "  _warn_prf(average, modifier, msg_start, len(result))\n",
      "/home/nmduy/anaconda3/envs/stress/lib/python3.9/site-packages/sklearn/metrics/_classification.py:1334: UndefinedMetricWarning: Recall is ill-defined and being set to 0.0 due to no true samples. Use `zero_division` parameter to control this behavior.\n",
      "  _warn_prf(average, modifier, msg_start, len(result))\n"
     ]
    }
   ],
   "source": [
    "evaluate(ml_model_name, test_dataloader)"
   ]
  },
  {
   "cell_type": "code",
   "execution_count": null,
   "metadata": {},
   "outputs": [],
   "source": []
  }
 ],
 "metadata": {
  "kernelspec": {
   "display_name": "Python 3.9.12 ('stress')",
   "language": "python",
   "name": "python3"
  },
  "language_info": {
   "codemirror_mode": {
    "name": "ipython",
    "version": 3
   },
   "file_extension": ".py",
   "mimetype": "text/x-python",
   "name": "python",
   "nbconvert_exporter": "python",
   "pygments_lexer": "ipython3",
   "version": "3.9.12"
  },
  "orig_nbformat": 4,
  "vscode": {
   "interpreter": {
    "hash": "37ebc3d14ab14189c4eae9bca0430f788ed6f529827f083fec73cc217c56eda2"
   }
  }
 },
 "nbformat": 4,
 "nbformat_minor": 2
}
