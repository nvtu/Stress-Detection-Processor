{
 "cells": [
  {
   "cell_type": "code",
   "execution_count": 1,
   "metadata": {},
   "outputs": [],
   "source": [
    "import __init__\n",
    "from datapath_manager import ITWDataPathManager, DataPathManager\n",
    "import numpy as np\n",
    "import os\n",
    "import pandas as pd\n",
    "from tqdm import tqdm"
   ]
  },
  {
   "cell_type": "code",
   "execution_count": 2,
   "metadata": {},
   "outputs": [],
   "source": [
    "dataset_name = 'DCU_EXP2_ITW'\n",
    "dataset_path = ITWDataPathManager(dataset_name).get_dataset_path()\n",
    "user_id = 'ltkhiem'\n",
    "feature_path = os.path.join(dataset_path, 'features', user_id)\n",
    "data_path = os.path.join(dataset_path, 'data', user_id)\n",
    "dates = sorted(os.listdir(feature_path))"
   ]
  },
  {
   "cell_type": "code",
   "execution_count": 13,
   "metadata": {},
   "outputs": [
    {
     "name": "stderr",
     "output_type": "stream",
     "text": [
      "100%|██████████| 7/7 [00:00<00:00, 16.71it/s]\n"
     ]
    }
   ],
   "source": [
    "for date in tqdm(dates):\n",
    "    path = os.path.join(feature_path, date, 'bvp_eda_temp.npy')\n",
    "    features = np.load(path)\n",
    "    nan_rows = np.where(np.isnan(features).any(axis=1))[0]\n",
    "    dpath = os.path.join(data_path, date, 'itw_logs.txt')\n",
    "    with open(dpath, 'w') as f:\n",
    "        for row in nan_rows:\n",
    "            print(f'{row}', file=f)"
   ]
  },
  {
   "cell_type": "code",
   "execution_count": null,
   "metadata": {},
   "outputs": [],
   "source": []
  }
 ],
 "metadata": {
  "kernelspec": {
   "display_name": "Python 3.9.12 ('stress')",
   "language": "python",
   "name": "python3"
  },
  "language_info": {
   "codemirror_mode": {
    "name": "ipython",
    "version": 3
   },
   "file_extension": ".py",
   "mimetype": "text/x-python",
   "name": "python",
   "nbconvert_exporter": "python",
   "pygments_lexer": "ipython3",
   "version": "3.9.12"
  },
  "orig_nbformat": 4,
  "vscode": {
   "interpreter": {
    "hash": "37ebc3d14ab14189c4eae9bca0430f788ed6f529827f083fec73cc217c56eda2"
   }
  }
 },
 "nbformat": 4,
 "nbformat_minor": 2
}
